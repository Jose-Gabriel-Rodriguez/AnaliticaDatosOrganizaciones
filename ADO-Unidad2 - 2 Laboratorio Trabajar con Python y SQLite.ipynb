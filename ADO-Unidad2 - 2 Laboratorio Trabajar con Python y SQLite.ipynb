{
 "cells": [
  {
   "cell_type": "markdown",
   "id": "9527be5c",
   "metadata": {},
   "source": [
    "\n",
    "![](CintillaTecNM-ITD.png)"
   ]
  },
  {
   "cell_type": "markdown",
   "id": "73704eee",
   "metadata": {},
   "source": [
    "\n",
    "\n",
    "# Analítica de Datos en las Organizaciones\n",
    "\n",
    "# Docente: José Gabriel Rodríguez Rivas\n",
    "\n",
    "\n",
    "# Unidad II   Introducción a los Datos\n",
    "\n",
    "\n",
    "## Práctica de laboratorio: cómo trabajar con Python y SQLite\n"
   ]
  },
  {
   "cell_type": "code",
   "execution_count": 1,
   "id": "defc9953",
   "metadata": {},
   "outputs": [],
   "source": [
    "# this is the library to talk to the database\n",
    "import sqlite3\n",
    "import pandas as pd\n",
    "# this is a library for data visualization\n",
    "from matplotlib import pyplot as plt"
   ]
  },
  {
   "cell_type": "markdown",
   "id": "46cc9551",
   "metadata": {},
   "source": [
    "Para ejecutar una consulta en la base de datos, necesitaremos utilizar el cursor que acabamos de crear y el método ‘execute()’. Este método toma como entrada una cadena que contiene la consulta que nos interesa. Podemos guardar la cadena en una variable; llamémosla ‘query’. Ejecute el método de esta manera:\n",
    "\n",
    "    cur.execute(query)\n",
    "\n",
    "La tabla sobre la que queremos consultar no tiene una excelente visualización, así que SELECCIONAREMOS sólo la columna DateTime, que contiene la fecha y la hora de las mediciones. LIMITAREMOS la cantidad de filas extraídas por la consulta a 10.\n",
    "\n",
    "###### b) Ejecute una consulta. \n",
    "Seleccione las primeras 10 filas de la columna DateTime. \n",
    "\n",
    "Sugerencia: Si desea revisar el nombre de las tablas en su base de datos, vuelva a la línea de comandos interactiva y utilice este código:\n",
    "    \n",
    "    .tables"
   ]
  },
  {
   "cell_type": "code",
   "execution_count": 2,
   "id": "208762b4",
   "metadata": {},
   "outputs": [],
   "source": [
    "conn = sqlite3.connect('c:/temp/phonebook.db')"
   ]
  },
  {
   "cell_type": "code",
   "execution_count": 3,
   "id": "9eea9a5e",
   "metadata": {},
   "outputs": [],
   "source": [
    "cur = conn.cursor()"
   ]
  },
  {
   "cell_type": "code",
   "execution_count": 4,
   "id": "e90880be",
   "metadata": {},
   "outputs": [
    {
     "data": {
      "text/plain": [
       "<sqlite3.Cursor at 0x24d42117260>"
      ]
     },
     "execution_count": 4,
     "metadata": {},
     "output_type": "execute_result"
    }
   ],
   "source": [
    "consulta = \"SELECT * FROM coworkers;\"\n",
    "cur.execute(consulta)"
   ]
  },
  {
   "cell_type": "code",
   "execution_count": null,
   "id": "007cbe79",
   "metadata": {},
   "outputs": [],
   "source": []
  },
  {
   "cell_type": "code",
   "execution_count": 5,
   "id": "fbd1195f",
   "metadata": {},
   "outputs": [
    {
     "name": "stdout",
     "output_type": "stream",
     "text": [
      "(101, 'Han Solo', 'Bounty Hunter', 5556667578.0)\n",
      "(102, 'Leia Skywalker', 'Princess', 5556542398.0)\n",
      "(103, 'Luke Skywalker', 'Jedi', 5558963267.0)\n",
      "(104, 'Obi-Wan Kenobi', 'Jedi', 5558963276.0)\n",
      "(105, 'Anakin Skywalker', 'Sith Lord', 5553477621.0)\n",
      "(106, 'Jabba The Hutt', 'Gangster', 5556613456.0)\n",
      "(107, 'Greedo', 'Debt Collector', 5552360918.0)\n",
      "(108, 'R2D2', 'Astro Droid', 5555210125.0)\n",
      "(109, 'C3PO', 'Protocol Droid', 5556633345.0)\n"
     ]
    }
   ],
   "source": [
    "for row in cur:\n",
    "    print(row)"
   ]
  },
  {
   "cell_type": "markdown",
   "id": "8b6febc9",
   "metadata": {},
   "source": [
    "### Desafio"
   ]
  },
  {
   "cell_type": "code",
   "execution_count": 6,
   "id": "b50f266e",
   "metadata": {},
   "outputs": [
    {
     "name": "stdout",
     "output_type": "stream",
     "text": [
      "('Leia Skywalker',)\n"
     ]
    }
   ],
   "source": [
    "##   Proporcione el código para consultar los nombres de todas las princesas.\n",
    "consulta = \"SELECT nombre FROM coworkers where título='Princess' ;\"\n",
    "cur.execute(consulta)\n",
    "for row in cur:\n",
    "    print(row)"
   ]
  },
  {
   "cell_type": "code",
   "execution_count": 7,
   "id": "873e02c7",
   "metadata": {},
   "outputs": [
    {
     "name": "stdout",
     "output_type": "stream",
     "text": [
      "('Leia Skywalker',)\n"
     ]
    }
   ],
   "source": [
    "## 2) Proporcione el código para consultar los nombres de todas\n",
    "# las princesas y los recaudadores.\n",
    "\n",
    "consulta = \"SELECT nombre FROM coworkers where título='Princess' ;\"\n",
    "cur.execute(consulta)\n",
    "for row in cur:\n",
    "    print(row)\n",
    "    "
   ]
  },
  {
   "cell_type": "code",
   "execution_count": 8,
   "id": "225a8048",
   "metadata": {},
   "outputs": [
    {
     "name": "stdout",
     "output_type": "stream",
     "text": [
      "('Leia Skywalker',)\n"
     ]
    }
   ],
   "source": [
    "##  3) Proporcione el código para consultar los nombres y los números\n",
    "#  de todos los Jedi.\n",
    "\n",
    "consulta = \"SELECT nombre FROM coworkers where título='Princess' ;\"\n",
    "cur.execute(consulta)\n",
    "for row in cur:\n",
    "    print(row)"
   ]
  },
  {
   "cell_type": "code",
   "execution_count": 11,
   "id": "bc29ca2d",
   "metadata": {},
   "outputs": [
    {
     "name": "stdout",
     "output_type": "stream",
     "text": [
      "('R2D2', 'Astro Droid')\n",
      "('C3PO', 'Protocol Droid')\n"
     ]
    }
   ],
   "source": [
    "### 4) Proporcione el código para consultar los nombres de los droids.\n",
    "\n",
    "consulta = \"SELECT nombre, título FROM coworkers where título like '%Droid%' ;\"\n",
    "cur.execute(consulta)\n",
    "for row in cur:\n",
    "    print(row)"
   ]
  },
  {
   "cell_type": "code",
   "execution_count": null,
   "id": "150cb904",
   "metadata": {},
   "outputs": [],
   "source": []
  },
  {
   "cell_type": "code",
   "execution_count": null,
   "id": "8aa24818",
   "metadata": {},
   "outputs": [],
   "source": []
  },
  {
   "cell_type": "code",
   "execution_count": null,
   "id": "49c467ac",
   "metadata": {},
   "outputs": [],
   "source": []
  },
  {
   "cell_type": "code",
   "execution_count": null,
   "id": "04f4ab26",
   "metadata": {},
   "outputs": [],
   "source": []
  }
 ],
 "metadata": {
  "kernelspec": {
   "display_name": "Python 3 (ipykernel)",
   "language": "python",
   "name": "python3"
  },
  "language_info": {
   "codemirror_mode": {
    "name": "ipython",
    "version": 3
   },
   "file_extension": ".py",
   "mimetype": "text/x-python",
   "name": "python",
   "nbconvert_exporter": "python",
   "pygments_lexer": "ipython3",
   "version": "3.8.13"
  }
 },
 "nbformat": 4,
 "nbformat_minor": 5
}
