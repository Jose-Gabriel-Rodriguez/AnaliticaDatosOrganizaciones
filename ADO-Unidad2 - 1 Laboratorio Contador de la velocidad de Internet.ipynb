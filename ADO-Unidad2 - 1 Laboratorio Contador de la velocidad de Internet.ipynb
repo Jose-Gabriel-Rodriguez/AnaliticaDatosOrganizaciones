{
 "cells": [
  {
   "cell_type": "markdown",
   "metadata": {},
   "source": [
    "\n",
    "![](CintillaTecNM-ITD.png)\n"
   ]
  },
  {
   "cell_type": "markdown",
   "metadata": {},
   "source": [
    "# Analítica de Datos en las Organizaciones\n",
    "\n",
    "# Docente: José Gabriel Rodríguez Rivas\n",
    "\n",
    "\n",
    "# Unidad II   Introducción a los Datos\n",
    "\n",
    "\n",
    "## Práctica de laboratorio: Contador de la velocidad de Internet"
   ]
  },
  {
   "cell_type": "code",
   "execution_count": 1,
   "metadata": {},
   "outputs": [],
   "source": [
    "import datetime\n",
    "import csv\n",
    "import subprocess\n",
    "\n",
    "import pandas as pd\n",
    "# NumPy is a library that adds support for large, multi-dimensional arrays and matrices\n",
    "# along with high-level mathematical functions to operate on these arrays\n",
    "import numpy as np"
   ]
  },
  {
   "cell_type": "markdown",
   "metadata": {},
   "source": [
    "#### NOTA\n",
    "Una **instancia de la clase datetime** no se puede escribir directamente en forma de texto. La función **strftime** analiza la información de fecha en una cadena. Los argumentos de esta función determinan el formato del string de salida. Una descripción de estos parámetros se encuentra en la documentación de lafunción strftime en\n",
    "https://docs.python.org/2/library/time.html (https://docs.python.org/2/library/time.html)"
   ]
  },
  {
   "cell_type": "markdown",
   "metadata": {},
   "source": [
    "#### Paso 2: Generar las marcas de hora mediante el paquete 'datetime'.\n",
    "\n",
    "En esta práctica de laboratorio, se generarán mediciones de las estadísticas de la velocidad de Internet. Un paso crucial en la adquisición de datos para la mayoría de las aplicaciones de análisis de datos es asociar una marca de hora a las mediciones. "
   ]
  },
  {
   "cell_type": "code",
   "execution_count": 2,
   "metadata": {},
   "outputs": [
    {
     "name": "stdout",
     "output_type": "stream",
     "text": [
      "2022-10-05 16:11:22.265118 <class 'datetime.datetime'>\n"
     ]
    }
   ],
   "source": [
    "fecha_hora = datetime.datetime.now()\n",
    "print(fecha_hora, type(fecha_hora))"
   ]
  },
  {
   "cell_type": "code",
   "execution_count": 3,
   "metadata": {},
   "outputs": [
    {
     "data": {
      "text/plain": [
       "'Wed, 05 Oct 2022 16:11:22'"
      ]
     },
     "execution_count": 3,
     "metadata": {},
     "output_type": "execute_result"
    }
   ],
   "source": [
    "fecha_hora.strftime('%a, %d %b %Y %H:%M:%S')\n"
   ]
  },
  {
   "cell_type": "code",
   "execution_count": 4,
   "metadata": {},
   "outputs": [
    {
     "data": {
      "text/plain": [
       "'2022-10-05 16:11:22'"
      ]
     },
     "execution_count": 4,
     "metadata": {},
     "output_type": "execute_result"
    }
   ],
   "source": [
    "fecha_hora.strftime('%Y-%m-%d %H:%M:%S')"
   ]
  },
  {
   "cell_type": "markdown",
   "metadata": {},
   "source": [
    "#### Paso 3: Ejecutar el proceso y recopilar la salida con Python.\n",
    "\n",
    "El comando **speedtest-cli**, si se ejecuta desde una terminal, **devuelve una cadena con las velocidades de carga y descarga**. Para ejecutar el comando es necesario utilizar un subproceso del módulo de Python, que permite la ejecución de un proceso directamente en las celdas de código de la computadora."
   ]
  },
  {
   "cell_type": "code",
   "execution_count": 5,
   "metadata": {
    "scrolled": true
   },
   "outputs": [],
   "source": [
    "# This string contains the command line to interface with speedtest.net\n",
    "speedtest_cmd = \"speedtest-cli --simple\"\n",
    "# Execute the process\n",
    "process = subprocess.Popen(speedtest_cmd.split(), stdout=subprocess.PIPE)\n",
    "# Collect the command output\n",
    "process_output = process.communicate()[0]"
   ]
  },
  {
   "cell_type": "code",
   "execution_count": 6,
   "metadata": {},
   "outputs": [
    {
     "name": "stdout",
     "output_type": "stream",
     "text": [
      "b'' <class 'bytes'>\n"
     ]
    }
   ],
   "source": [
    "print(process_output, type(process_output))\n",
    "\n",
    "# Debe salir algo asi:\n",
    "#  b'Ping: 66.571 ms\\r\\nDownload: 71.47 Mbit/s\\r\\nUpload: 38.49 Mbit/s\\r\\n' <class 'bytes'>"
   ]
  },
  {
   "cell_type": "code",
   "execution_count": 7,
   "metadata": {},
   "outputs": [
    {
     "name": "stdout",
     "output_type": "stream",
     "text": [
      "['2022-10-05 16:11:36'] <class 'list'>\n"
     ]
    }
   ],
   "source": [
    "# Code cell 8\n",
    "# Store the time at which the speedtest was executed\n",
    "date_time = datetime.datetime.now().strftime(\"%Y-%m-%d %H:%M:%S\")\n",
    "process_output = process_output.split()\n",
    "process_output.append(date_time)\n",
    "print(process_output, type(process_output))\n",
    "\n",
    "# debe salir algo asi:\n",
    "#    [b'Ping:', b'66.571', b'ms', b'Download:', b'71.47', b'Mbit/s', b'Upload:',\n",
    "#          b'38.49', b'Mbit/s', '2017-09-15 11:57:36'] <class 'list'>\n"
   ]
  },
  {
   "cell_type": "code",
   "execution_count": 8,
   "metadata": {},
   "outputs": [],
   "source": [
    "# Code cell 9\n",
    "# function to excute the speed test\n",
    "def speedtest():\n",
    "    # We need to store the time at which the speedtest was executed\n",
    "    date_time = datetime.datetime.now().strftime(\"%Y-%m-%d %H:%M:%S\")\n",
    "    # This is a string that contains what we would write on the command line \n",
    "    #to interface with speedtest.net\n",
    "    speedtest_cmd = \"speedtest-cli --simple\"\n",
    "    # We now execute the process: \n",
    "    process = subprocess.Popen(speedtest_cmd.split(), stdout=subprocess.PIPE)\n",
    "    process_output = process.communicate()[0]\n",
    "    process_output = process_output.split()\n",
    "    # and we add the date and time \n",
    "    process_output.append(date_time)\n",
    "    return process_output\n",
    "\n"
   ]
  },
  {
   "cell_type": "code",
   "execution_count": 9,
   "metadata": {},
   "outputs": [
    {
     "data": {
      "text/plain": [
       "['2022-10-05 16:11:38']"
      ]
     },
     "execution_count": 9,
     "metadata": {},
     "output_type": "execute_result"
    }
   ],
   "source": [
    "speedtest()"
   ]
  },
  {
   "cell_type": "markdown",
   "metadata": {},
   "source": [
    "#### Paso 4: Guardar la salida de la función 'speedtest()'.\n",
    "\n",
    "Los valores separados por comas (csv) son el formato de importación y exportación más común para las hojas de cálculo y las bases de datos. Para obtener más información sobre el trabajo con los csv en Python, navegue a https://docs.python.org/2/library/csv.html."
   ]
  },
  {
   "cell_type": "code",
   "execution_count": 10,
   "metadata": {},
   "outputs": [],
   "source": [
    "#  a) Cree un archivo denominado test.txt en el directorio /tmp y \n",
    "#   escriba \"test_msg\" en el archivo.\n",
    "with open(\"test.txt\",'w') as f:\n",
    "    f.write('test_msg')\n",
    "\n"
   ]
  },
  {
   "cell_type": "code",
   "execution_count": 11,
   "metadata": {},
   "outputs": [
    {
     "name": "stdout",
     "output_type": "stream",
     "text": [
      "test_msg\n"
     ]
    }
   ],
   "source": [
    "# c) Para verificar que el archivo se haya abierto correctamente: \n",
    "with open(\"test.txt\",'r') as f:\n",
    "   str = f.read()\n",
    "print(str)"
   ]
  },
  {
   "cell_type": "markdown",
   "metadata": {},
   "source": [
    "d) La comprensión del significado de la declaración 'with', especialmente en combinación con 'try' y 'except' no es necesaria para el resto de esta práctica de laboratorio, pero se incluye un recurso útil sobre esto en http://effbot.org/zone/python-with-statement.htm.\n",
    "<p>\n",
    "Para escribir en el archivo 'csv', es necesario crear un objeto 'csv.writer'. Verifique https://docs.python.org/2/library/csv.html y descubra qué función del objeto 'csv.writer' se puede utilizar para agregar una fila al archivo 'csv'."
   ]
  },
  {
   "cell_type": "code",
   "execution_count": 12,
   "metadata": {},
   "outputs": [],
   "source": [
    "def save_to_csv(data, filename):\n",
    "    try:\n",
    "        # If the file exists, append a new line to it, with the \n",
    "        with open(filename + '.csv', 'a') as f:\n",
    "            # Create a csv writer object \n",
    "            wr = csv.writer(f)\n",
    "            # Save (write) to file\n",
    "            wr.writerow(data)\n",
    "    except:\n",
    "        # If it does not exist, create the file first\n",
    "        with open(filename + '.csv', 'w') as f:\n",
    "            wr = csv.writer(f)\n",
    "            # Save (write) to file\n",
    "            wr.writerow(data)\n",
    "            "
   ]
  },
  {
   "cell_type": "markdown",
   "metadata": {},
   "source": [
    "#### Función para abrir un archivo csv e imprimir su contenido en la pantall"
   ]
  },
  {
   "cell_type": "code",
   "execution_count": 13,
   "metadata": {},
   "outputs": [],
   "source": [
    "# Code cell 15\n",
    "def print_from_csv(filename): \n",
    "    with open(filename + '.csv', 'r') as f:\n",
    "        re = csv.reader(f)\n",
    "        for row in re:\n",
    "            print(', '.join(row))\n",
    "\n"
   ]
  },
  {
   "cell_type": "markdown",
   "metadata": {},
   "source": [
    "#### Paso 6: Ejecutar varias veces Speedtest y guardar los datos.  \n",
    "a) Escriba un bucle 'for' que ejecute speedtest 5 veces, imprima la salida de las pruebas y guarde los datos en un archivo csv."
   ]
  },
  {
   "cell_type": "code",
   "execution_count": 14,
   "metadata": {},
   "outputs": [
    {
     "name": "stdout",
     "output_type": "stream",
     "text": [
      "Test number 0\n",
      "['2022-10-05 16:11:48']\n",
      "Test number 1\n",
      "['2022-10-05 16:11:49']\n",
      "Test number 2\n",
      "[b'Ping:', b'61.816', b'ms', b'Download:', b'25.05', b'Mbit/s', b'Upload:', b'17.04', b'Mbit/s', '2022-10-05 16:11:50']\n",
      "Test number 3\n",
      "[b'Ping:', b'7.741', b'ms', b'Download:', b'25.85', b'Mbit/s', b'Upload:', b'19.48', b'Mbit/s', '2022-10-05 16:12:45']\n",
      "Test number 4\n",
      "['2022-10-05 16:13:41']\n"
     ]
    }
   ],
   "source": [
    "for i in range(5):\n",
    "    # Measure internet speed (speedtest_output) using the speedtest() created earlier\n",
    "    speedtest_output = speedtest()\n",
    "    # Print the test number\n",
    "    print('Test number {}'.format(i))\n",
    "    # Print the result (The needed variable is speedtest_output)\n",
    "    # ADD CODE HERE for printing the results\n",
    "    print(speedtest_output)\n",
    "    save_to_csv(speedtest_output, 'rpi_data_test')\n",
    "\n"
   ]
  },
  {
   "cell_type": "code",
   "execution_count": 15,
   "metadata": {},
   "outputs": [
    {
     "name": "stdout",
     "output_type": "stream",
     "text": [
      "2022-10-05 15:54:41\n",
      "\n",
      "2022-10-05 15:54:42\n",
      "\n",
      "2022-10-05 15:54:43\n",
      "\n",
      "2022-10-05 15:54:45\n",
      "\n",
      "2022-10-05 15:54:46\n",
      "\n",
      "2022-10-05 16:11:48\n",
      "\n",
      "2022-10-05 16:11:49\n",
      "\n",
      "b'Ping:', b'61.816', b'ms', b'Download:', b'25.05', b'Mbit/s', b'Upload:', b'17.04', b'Mbit/s', 2022-10-05 16:11:50\n",
      "\n",
      "b'Ping:', b'7.741', b'ms', b'Download:', b'25.85', b'Mbit/s', b'Upload:', b'19.48', b'Mbit/s', 2022-10-05 16:12:45\n",
      "\n",
      "2022-10-05 16:13:41\n",
      "\n"
     ]
    }
   ],
   "source": [
    "#  b) Muestre el archivo para verificar que los datos se hayan guardado correctamente.\n",
    "\n",
    "print_from_csv('rpi_data_test')"
   ]
  },
  {
   "cell_type": "markdown",
   "metadata": {},
   "source": [
    "## Parte 2: Manipular los datos"
   ]
  },
  {
   "cell_type": "markdown",
   "metadata": {},
   "source": [
    "Los biblioteca de Python 'pandas' es muy útil para trabajar con datos estructurados. La documentación completa se encuentra aquí: http://pandas.pydata.org/pandas-docs/version/0.14.1/</font>\n",
    "\n",
    "Se utilizará un conjunto de datos más grande recopilado de antemano para esta parte de la práctica de laboratorio. El nombre de archivo es 'rpi_data_long.csv'.\n",
    "\n",
    "#### Paso 1: Importar las bibliotecas de Python.\n",
    "\n",
    "Importe 'pandas' y otras bibliotecas utilizadas para las siguientes tareas."
   ]
  },
  {
   "cell_type": "markdown",
   "metadata": {},
   "source": [
    "#### Paso 2: Cargar el archivo 'csv' en un objeto 'DataFrame' mediante el uso de 'pandas'.\n",
    "\n",
    "Un 'pandas DataFrame' es una estructura de datos etiquetada de 2 dimensiones con columnas de tipos potencialmente diferentes. Puede verlo como una hoja de cálculo o una tabla de SQL. La función de la biblioteca pandas 'read_csv' convierte automáticamente un archivo 'csv' en un objeto 'DataFrame'.\n",
    "\n",
    "Lea la documentación de 'read_csv' en http://pandas.pydata.org/pandas-docs/version/0.14.1/generated/pandas.read_csv.html.\n",
    "Esta función contiene muchos parámetros. El único no opcional es 'filepath', es decir, la ubicación del archivo 'csv'. Todos los demás parámetros son opcionales.\n",
    "\n",
    "En este paso, importará y verá el contenido del archivo csv, 'rpi_data_long.csv'. Esto archivo csv se encuentra en el mismo directorio que esta notebook de Jupyter."
   ]
  },
  {
   "cell_type": "code",
   "execution_count": 16,
   "metadata": {},
   "outputs": [],
   "source": [
    "# a) Asigne el archivo 'rpi_data_long.csv' a la variable 'data_file'.\n",
    "\n",
    "data_file = 'rpi_data_long.csv'"
   ]
  },
  {
   "cell_type": "code",
   "execution_count": 17,
   "metadata": {},
   "outputs": [],
   "source": [
    "#  c) Utilice el parámetro 'names' de la función 'read_csv' para especificar el \n",
    "#  nombre de las columnas de 'DataFrame'.\n",
    "\n",
    "column_names = [ 'Type A', 'Measure A', 'Units A',\n",
    "                 'Type B', 'Measure B', 'Units B',\n",
    "                 'Type C', 'Measure C', 'Units C', \n",
    "                 'Datetime']"
   ]
  },
  {
   "cell_type": "code",
   "execution_count": 18,
   "metadata": {},
   "outputs": [],
   "source": [
    "# d) Utilice la función 'read_csv' para leer de 'data_file' y asigne 'column_names' como los\n",
    "#  nombres de columna en el marco de datos.\n",
    "\n",
    "with open(data_file, 'r') as f:\n",
    "    df_redundant = pd.read_csv(f, names = column_names)"
   ]
  },
  {
   "cell_type": "code",
   "execution_count": 19,
   "metadata": {},
   "outputs": [
    {
     "data": {
      "text/html": [
       "<div>\n",
       "<style scoped>\n",
       "    .dataframe tbody tr th:only-of-type {\n",
       "        vertical-align: middle;\n",
       "    }\n",
       "\n",
       "    .dataframe tbody tr th {\n",
       "        vertical-align: top;\n",
       "    }\n",
       "\n",
       "    .dataframe thead th {\n",
       "        text-align: right;\n",
       "    }\n",
       "</style>\n",
       "<table border=\"1\" class=\"dataframe\">\n",
       "  <thead>\n",
       "    <tr style=\"text-align: right;\">\n",
       "      <th></th>\n",
       "      <th>Type A</th>\n",
       "      <th>Measure A</th>\n",
       "      <th>Units A</th>\n",
       "      <th>Type B</th>\n",
       "      <th>Measure B</th>\n",
       "      <th>Units B</th>\n",
       "      <th>Type C</th>\n",
       "      <th>Measure C</th>\n",
       "      <th>Units C</th>\n",
       "      <th>Datetime</th>\n",
       "    </tr>\n",
       "  </thead>\n",
       "  <tbody>\n",
       "    <tr>\n",
       "      <th>0</th>\n",
       "      <td>Ping:</td>\n",
       "      <td>26.992</td>\n",
       "      <td>ms</td>\n",
       "      <td>Download:</td>\n",
       "      <td>91.80</td>\n",
       "      <td>Mbit/s</td>\n",
       "      <td>Upload:</td>\n",
       "      <td>14.31</td>\n",
       "      <td>Mbit/s</td>\n",
       "      <td>24/11/2016 13:36</td>\n",
       "    </tr>\n",
       "    <tr>\n",
       "      <th>1</th>\n",
       "      <td>Ping:</td>\n",
       "      <td>24.532</td>\n",
       "      <td>ms</td>\n",
       "      <td>Download:</td>\n",
       "      <td>88.19</td>\n",
       "      <td>Mbit/s</td>\n",
       "      <td>Upload:</td>\n",
       "      <td>14.12</td>\n",
       "      <td>Mbit/s</td>\n",
       "      <td>24/11/2016 13:36</td>\n",
       "    </tr>\n",
       "    <tr>\n",
       "      <th>2</th>\n",
       "      <td>Ping:</td>\n",
       "      <td>20.225</td>\n",
       "      <td>ms</td>\n",
       "      <td>Download:</td>\n",
       "      <td>59.86</td>\n",
       "      <td>Mbit/s</td>\n",
       "      <td>Upload:</td>\n",
       "      <td>14.11</td>\n",
       "      <td>Mbit/s</td>\n",
       "      <td>24/11/2016 13:37</td>\n",
       "    </tr>\n",
       "    <tr>\n",
       "      <th>3</th>\n",
       "      <td>Ping:</td>\n",
       "      <td>19.332</td>\n",
       "      <td>ms</td>\n",
       "      <td>Download:</td>\n",
       "      <td>91.81</td>\n",
       "      <td>Mbit/s</td>\n",
       "      <td>Upload:</td>\n",
       "      <td>14.22</td>\n",
       "      <td>Mbit/s</td>\n",
       "      <td>24/11/2016 13:37</td>\n",
       "    </tr>\n",
       "    <tr>\n",
       "      <th>4</th>\n",
       "      <td>Ping:</td>\n",
       "      <td>22.494</td>\n",
       "      <td>ms</td>\n",
       "      <td>Download:</td>\n",
       "      <td>92.05</td>\n",
       "      <td>Mbit/s</td>\n",
       "      <td>Upload:</td>\n",
       "      <td>14.08</td>\n",
       "      <td>Mbit/s</td>\n",
       "      <td>24/11/2016 13:38</td>\n",
       "    </tr>\n",
       "  </tbody>\n",
       "</table>\n",
       "</div>"
      ],
      "text/plain": [
       "  Type A  Measure A Units A     Type B  Measure B Units B   Type C  Measure C  \\\n",
       "0  Ping:     26.992      ms  Download:      91.80  Mbit/s  Upload:      14.31   \n",
       "1  Ping:     24.532      ms  Download:      88.19  Mbit/s  Upload:      14.12   \n",
       "2  Ping:     20.225      ms  Download:      59.86  Mbit/s  Upload:      14.11   \n",
       "3  Ping:     19.332      ms  Download:      91.81  Mbit/s  Upload:      14.22   \n",
       "4  Ping:     22.494      ms  Download:      92.05  Mbit/s  Upload:      14.08   \n",
       "\n",
       "  Units C          Datetime  \n",
       "0  Mbit/s  24/11/2016 13:36  \n",
       "1  Mbit/s  24/11/2016 13:36  \n",
       "2  Mbit/s  24/11/2016 13:37  \n",
       "3  Mbit/s  24/11/2016 13:37  \n",
       "4  Mbit/s  24/11/2016 13:38  "
      ]
     },
     "execution_count": 19,
     "metadata": {},
     "output_type": "execute_result"
    }
   ],
   "source": [
    "df_redundant.head()"
   ]
  },
  {
   "cell_type": "markdown",
   "metadata": {},
   "source": [
    "#### Paso 3: Crear una representación concisa.\n",
    "En este paso, creará una representación más compacta mediante una copia del marco de datos 'df_redundant'."
   ]
  },
  {
   "cell_type": "markdown",
   "metadata": {},
   "source": [
    "a) Copie 'df_redundant' en otro marco de datos llamado 'df_compact' mediante 'copy()'."
   ]
  },
  {
   "cell_type": "code",
   "execution_count": 29,
   "metadata": {},
   "outputs": [],
   "source": [
    "df_compact = df_redundant.copy()"
   ]
  },
  {
   "cell_type": "markdown",
   "metadata": {},
   "source": [
    "b) Cambie el nombre de las columnas en relación con las medidas como se muestra:\n",
    "\n",
    "    Medida A -> Ping (ms)\n",
    "    Medida B -> Descargar (Mbit/s)\n",
    "    Medida C -> Cargar (Mbit/s)"
   ]
  },
  {
   "cell_type": "code",
   "execution_count": 30,
   "metadata": {},
   "outputs": [
    {
     "data": {
      "text/html": [
       "<div>\n",
       "<style scoped>\n",
       "    .dataframe tbody tr th:only-of-type {\n",
       "        vertical-align: middle;\n",
       "    }\n",
       "\n",
       "    .dataframe tbody tr th {\n",
       "        vertical-align: top;\n",
       "    }\n",
       "\n",
       "    .dataframe thead th {\n",
       "        text-align: right;\n",
       "    }\n",
       "</style>\n",
       "<table border=\"1\" class=\"dataframe\">\n",
       "  <thead>\n",
       "    <tr style=\"text-align: right;\">\n",
       "      <th></th>\n",
       "      <th>Type A</th>\n",
       "      <th>Ping (ms)</th>\n",
       "      <th>Units A</th>\n",
       "      <th>Type B</th>\n",
       "      <th>Download (Mbit/s)</th>\n",
       "      <th>Units B</th>\n",
       "      <th>Type C</th>\n",
       "      <th>Upload (Mbit/s)</th>\n",
       "      <th>Units C</th>\n",
       "      <th>Datetime</th>\n",
       "    </tr>\n",
       "  </thead>\n",
       "  <tbody>\n",
       "    <tr>\n",
       "      <th>0</th>\n",
       "      <td>Ping:</td>\n",
       "      <td>26.992</td>\n",
       "      <td>ms</td>\n",
       "      <td>Download:</td>\n",
       "      <td>91.80</td>\n",
       "      <td>Mbit/s</td>\n",
       "      <td>Upload:</td>\n",
       "      <td>14.31</td>\n",
       "      <td>Mbit/s</td>\n",
       "      <td>24/11/2016 13:36</td>\n",
       "    </tr>\n",
       "    <tr>\n",
       "      <th>1</th>\n",
       "      <td>Ping:</td>\n",
       "      <td>24.532</td>\n",
       "      <td>ms</td>\n",
       "      <td>Download:</td>\n",
       "      <td>88.19</td>\n",
       "      <td>Mbit/s</td>\n",
       "      <td>Upload:</td>\n",
       "      <td>14.12</td>\n",
       "      <td>Mbit/s</td>\n",
       "      <td>24/11/2016 13:36</td>\n",
       "    </tr>\n",
       "    <tr>\n",
       "      <th>2</th>\n",
       "      <td>Ping:</td>\n",
       "      <td>20.225</td>\n",
       "      <td>ms</td>\n",
       "      <td>Download:</td>\n",
       "      <td>59.86</td>\n",
       "      <td>Mbit/s</td>\n",
       "      <td>Upload:</td>\n",
       "      <td>14.11</td>\n",
       "      <td>Mbit/s</td>\n",
       "      <td>24/11/2016 13:37</td>\n",
       "    </tr>\n",
       "  </tbody>\n",
       "</table>\n",
       "</div>"
      ],
      "text/plain": [
       "  Type A  Ping (ms) Units A     Type B  Download (Mbit/s) Units B   Type C  \\\n",
       "0  Ping:     26.992      ms  Download:              91.80  Mbit/s  Upload:   \n",
       "1  Ping:     24.532      ms  Download:              88.19  Mbit/s  Upload:   \n",
       "2  Ping:     20.225      ms  Download:              59.86  Mbit/s  Upload:   \n",
       "\n",
       "   Upload (Mbit/s) Units C          Datetime  \n",
       "0            14.31  Mbit/s  24/11/2016 13:36  \n",
       "1            14.12  Mbit/s  24/11/2016 13:36  \n",
       "2            14.11  Mbit/s  24/11/2016 13:37  "
      ]
     },
     "execution_count": 30,
     "metadata": {},
     "output_type": "execute_result"
    }
   ],
   "source": [
    "df_compact.rename(columns={'Measure A':'Ping (ms)', \n",
    "                           'Measure B': 'Download (Mbit/s)',\n",
    "                           'Measure C': 'Upload (Mbit/s)'}, inplace=True)\n",
    "df_compact.head(3)\n",
    "\n"
   ]
  },
  {
   "cell_type": "markdown",
   "metadata": {},
   "source": [
    "En la tabla anterior, el campo 'Datetime' es una cadena. Los pandas y Python ofrecen varias operaciones para trabajar con la fecha y la hora que pueden ser muy útiles.\n",
    "\n",
    "En el siguiente paso, la cadena de la columna 'Datetime' se separará en dos columnas nuevas.\n",
    "\n",
    "#### Paso 4: Separar los datos en dos columnas.\n",
    "En este paso, utilizará Pandas para generar las columnas 'Date' y 'Time' a partir de la columna 'Datetime' y luego descartará la columna 'Datetime'.\n",
    "<p>Se utiliza la función 'lambda' para crear dos funciones anónimas que recuperen solo la fecha y la hora de un objeto 'datetime', respectivamente. Luego, utilice la función de 'pandas' 'apply' para aplicar esta función a una columna completa (en la práctica, 'apply' define implícitamente un bucle 'for' y pasa las filas una a una hasta nuestra función 'lambda'). Guarde el resultado de las funciones 'apply' en dos nuevas columnas del 'DataFrame'."
   ]
  },
  {
   "cell_type": "markdown",
   "metadata": {},
   "source": [
    "a) Aplique la función 'lambda' para iterar a través del marco de datos y dividir la fecha de la columna 'Datetime'."
   ]
  },
  {
   "cell_type": "code",
   "execution_count": 31,
   "metadata": {
    "scrolled": true
   },
   "outputs": [
    {
     "data": {
      "text/html": [
       "<div>\n",
       "<style scoped>\n",
       "    .dataframe tbody tr th:only-of-type {\n",
       "        vertical-align: middle;\n",
       "    }\n",
       "\n",
       "    .dataframe tbody tr th {\n",
       "        vertical-align: top;\n",
       "    }\n",
       "\n",
       "    .dataframe thead th {\n",
       "        text-align: right;\n",
       "    }\n",
       "</style>\n",
       "<table border=\"1\" class=\"dataframe\">\n",
       "  <thead>\n",
       "    <tr style=\"text-align: right;\">\n",
       "      <th></th>\n",
       "      <th>Ping (ms)</th>\n",
       "      <th>Download (Mbit/s)</th>\n",
       "      <th>Upload (Mbit/s)</th>\n",
       "      <th>Datetime</th>\n",
       "    </tr>\n",
       "  </thead>\n",
       "  <tbody>\n",
       "    <tr>\n",
       "      <th>0</th>\n",
       "      <td>26.992</td>\n",
       "      <td>91.80</td>\n",
       "      <td>14.31</td>\n",
       "      <td>24/11/2016 13:36</td>\n",
       "    </tr>\n",
       "    <tr>\n",
       "      <th>1</th>\n",
       "      <td>24.532</td>\n",
       "      <td>88.19</td>\n",
       "      <td>14.12</td>\n",
       "      <td>24/11/2016 13:36</td>\n",
       "    </tr>\n",
       "    <tr>\n",
       "      <th>2</th>\n",
       "      <td>20.225</td>\n",
       "      <td>59.86</td>\n",
       "      <td>14.11</td>\n",
       "      <td>24/11/2016 13:37</td>\n",
       "    </tr>\n",
       "    <tr>\n",
       "      <th>3</th>\n",
       "      <td>19.332</td>\n",
       "      <td>91.81</td>\n",
       "      <td>14.22</td>\n",
       "      <td>24/11/2016 13:37</td>\n",
       "    </tr>\n",
       "    <tr>\n",
       "      <th>4</th>\n",
       "      <td>22.494</td>\n",
       "      <td>92.05</td>\n",
       "      <td>14.08</td>\n",
       "      <td>24/11/2016 13:38</td>\n",
       "    </tr>\n",
       "  </tbody>\n",
       "</table>\n",
       "</div>"
      ],
      "text/plain": [
       "   Ping (ms)  Download (Mbit/s)  Upload (Mbit/s)          Datetime\n",
       "0     26.992              91.80            14.31  24/11/2016 13:36\n",
       "1     24.532              88.19            14.12  24/11/2016 13:36\n",
       "2     20.225              59.86            14.11  24/11/2016 13:37\n",
       "3     19.332              91.81            14.22  24/11/2016 13:37\n",
       "4     22.494              92.05            14.08  24/11/2016 13:38"
      ]
     },
     "execution_count": 31,
     "metadata": {},
     "output_type": "execute_result"
    }
   ],
   "source": [
    "df_compact.drop(['Type A', 'Type B', 'Type C',\n",
    "         'Units A', 'Units B', 'Units C'], axis=1, inplace=True)\n",
    "df_compact.head()"
   ]
  },
  {
   "cell_type": "markdown",
   "metadata": {},
   "source": [
    "c) Como las columnas de los tipos y las unidades ya no son necesarias, estas columnas pueden descartarse."
   ]
  },
  {
   "cell_type": "code",
   "execution_count": 32,
   "metadata": {},
   "outputs": [],
   "source": [
    "# Code cell 28\n",
    "\n",
    "df_compact['Date'] = df_compact['Datetime'].apply(lambda dt_str: pd.to_datetime(dt_str).date())"
   ]
  },
  {
   "cell_type": "markdown",
   "metadata": {},
   "source": [
    "b) Repita el paso a) para dividir la hora de la columna 'Datetime'. "
   ]
  },
  {
   "cell_type": "code",
   "execution_count": 33,
   "metadata": {},
   "outputs": [],
   "source": [
    "# Code cell 29\n",
    "# Please note, this requires an intermediate step, because of how NaT are treated by the time() function.\n",
    "# Reference: https://github.com/pandas-dev/pandas/issues/11453\n",
    "temp = df_compact['Datetime'].apply(lambda dt_str: pd.to_datetime(dt_str))\n",
    "df_compact['Time'] = temp.dt.time"
   ]
  },
  {
   "cell_type": "markdown",
   "metadata": {},
   "source": [
    "c) Toda la información de la columna 'Datetime' se ha copiado ahora a las columnas 'Date' y 'Time'. La columna 'Datetime' carece de propósito. La columna 'Datetime' se puede descartar del marco de datos.\n",
    "<p>Ingrese el código para descartar la columna 'Datetime' en la celda a continuación."
   ]
  },
  {
   "cell_type": "code",
   "execution_count": 34,
   "metadata": {},
   "outputs": [],
   "source": [
    "# Code cell 30\n",
    "df_compact.drop('Datetime', axis=1, inplace=True)"
   ]
  },
  {
   "cell_type": "markdown",
   "metadata": {},
   "source": [
    "Ingrese el código para imprimir las primeras 3 filas del marco de datos para verificar los cambios."
   ]
  },
  {
   "cell_type": "code",
   "execution_count": 35,
   "metadata": {},
   "outputs": [
    {
     "data": {
      "text/html": [
       "<div>\n",
       "<style scoped>\n",
       "    .dataframe tbody tr th:only-of-type {\n",
       "        vertical-align: middle;\n",
       "    }\n",
       "\n",
       "    .dataframe tbody tr th {\n",
       "        vertical-align: top;\n",
       "    }\n",
       "\n",
       "    .dataframe thead th {\n",
       "        text-align: right;\n",
       "    }\n",
       "</style>\n",
       "<table border=\"1\" class=\"dataframe\">\n",
       "  <thead>\n",
       "    <tr style=\"text-align: right;\">\n",
       "      <th></th>\n",
       "      <th>Ping (ms)</th>\n",
       "      <th>Download (Mbit/s)</th>\n",
       "      <th>Upload (Mbit/s)</th>\n",
       "      <th>Date</th>\n",
       "      <th>Time</th>\n",
       "    </tr>\n",
       "  </thead>\n",
       "  <tbody>\n",
       "    <tr>\n",
       "      <th>0</th>\n",
       "      <td>26.992</td>\n",
       "      <td>91.80</td>\n",
       "      <td>14.31</td>\n",
       "      <td>2016-11-24</td>\n",
       "      <td>13:36:00</td>\n",
       "    </tr>\n",
       "    <tr>\n",
       "      <th>1</th>\n",
       "      <td>24.532</td>\n",
       "      <td>88.19</td>\n",
       "      <td>14.12</td>\n",
       "      <td>2016-11-24</td>\n",
       "      <td>13:36:00</td>\n",
       "    </tr>\n",
       "    <tr>\n",
       "      <th>2</th>\n",
       "      <td>20.225</td>\n",
       "      <td>59.86</td>\n",
       "      <td>14.11</td>\n",
       "      <td>2016-11-24</td>\n",
       "      <td>13:37:00</td>\n",
       "    </tr>\n",
       "  </tbody>\n",
       "</table>\n",
       "</div>"
      ],
      "text/plain": [
       "   Ping (ms)  Download (Mbit/s)  Upload (Mbit/s)        Date      Time\n",
       "0     26.992              91.80            14.31  2016-11-24  13:36:00\n",
       "1     24.532              88.19            14.12  2016-11-24  13:36:00\n",
       "2     20.225              59.86            14.11  2016-11-24  13:37:00"
      ]
     },
     "execution_count": 35,
     "metadata": {},
     "output_type": "execute_result"
    }
   ],
   "source": [
    "# Code cell 31\n",
    "df_compact.head(3)"
   ]
  },
  {
   "cell_type": "markdown",
   "metadata": {},
   "source": [
    "d) Utilice la función 'type' para imprimir el tipo de variable de los valores en las columnas 'Date' y 'Time'."
   ]
  },
  {
   "cell_type": "code",
   "execution_count": 36,
   "metadata": {},
   "outputs": [
    {
     "name": "stdout",
     "output_type": "stream",
     "text": [
      "2016-11-24 <class 'datetime.date'>\n",
      "13:36:00 <class 'datetime.time'>\n"
     ]
    }
   ],
   "source": [
    "# Code cell 32\n",
    "print(df_compact['Date'][0], type(df_compact['Date'][0]) )\n",
    "print(df_compact['Time'][0], type(df_compact['Time'][0]) )"
   ]
  },
  {
   "cell_type": "markdown",
   "metadata": {},
   "source": [
    "#### Paso 5: Guardar el nuevo marco de datos.\n",
    "Guarde el marco de datos de pandas 'df_compact' como un archivo csv llamado 'rpi_data_compact':"
   ]
  },
  {
   "cell_type": "code",
   "execution_count": 38,
   "metadata": {},
   "outputs": [],
   "source": [
    "# Code cell 33\n",
    "df_compact.to_csv('rpi_data_compact.csv')"
   ]
  },
  {
   "cell_type": "code",
   "execution_count": 39,
   "metadata": {},
   "outputs": [
    {
     "data": {
      "text/html": [
       "<div>\n",
       "<style scoped>\n",
       "    .dataframe tbody tr th:only-of-type {\n",
       "        vertical-align: middle;\n",
       "    }\n",
       "\n",
       "    .dataframe tbody tr th {\n",
       "        vertical-align: top;\n",
       "    }\n",
       "\n",
       "    .dataframe thead th {\n",
       "        text-align: right;\n",
       "    }\n",
       "</style>\n",
       "<table border=\"1\" class=\"dataframe\">\n",
       "  <thead>\n",
       "    <tr style=\"text-align: right;\">\n",
       "      <th></th>\n",
       "      <th>Ping (ms)</th>\n",
       "      <th>Download (Mbit/s)</th>\n",
       "      <th>Upload (Mbit/s)</th>\n",
       "      <th>Date</th>\n",
       "      <th>Time</th>\n",
       "    </tr>\n",
       "  </thead>\n",
       "  <tbody>\n",
       "    <tr>\n",
       "      <th>0</th>\n",
       "      <td>26.992</td>\n",
       "      <td>91.80</td>\n",
       "      <td>14.31</td>\n",
       "      <td>2016-11-24</td>\n",
       "      <td>13:36:00</td>\n",
       "    </tr>\n",
       "    <tr>\n",
       "      <th>1</th>\n",
       "      <td>24.532</td>\n",
       "      <td>88.19</td>\n",
       "      <td>14.12</td>\n",
       "      <td>2016-11-24</td>\n",
       "      <td>13:36:00</td>\n",
       "    </tr>\n",
       "    <tr>\n",
       "      <th>2</th>\n",
       "      <td>20.225</td>\n",
       "      <td>59.86</td>\n",
       "      <td>14.11</td>\n",
       "      <td>2016-11-24</td>\n",
       "      <td>13:37:00</td>\n",
       "    </tr>\n",
       "    <tr>\n",
       "      <th>3</th>\n",
       "      <td>19.332</td>\n",
       "      <td>91.81</td>\n",
       "      <td>14.22</td>\n",
       "      <td>2016-11-24</td>\n",
       "      <td>13:37:00</td>\n",
       "    </tr>\n",
       "    <tr>\n",
       "      <th>4</th>\n",
       "      <td>22.494</td>\n",
       "      <td>92.05</td>\n",
       "      <td>14.08</td>\n",
       "      <td>2016-11-24</td>\n",
       "      <td>13:38:00</td>\n",
       "    </tr>\n",
       "    <tr>\n",
       "      <th>...</th>\n",
       "      <td>...</td>\n",
       "      <td>...</td>\n",
       "      <td>...</td>\n",
       "      <td>...</td>\n",
       "      <td>...</td>\n",
       "    </tr>\n",
       "    <tr>\n",
       "      <th>667</th>\n",
       "      <td>23.073</td>\n",
       "      <td>83.97</td>\n",
       "      <td>14.18</td>\n",
       "      <td>2016-11-24</td>\n",
       "      <td>19:15:00</td>\n",
       "    </tr>\n",
       "    <tr>\n",
       "      <th>668</th>\n",
       "      <td>20.952</td>\n",
       "      <td>88.67</td>\n",
       "      <td>14.35</td>\n",
       "      <td>2016-11-24</td>\n",
       "      <td>19:15:00</td>\n",
       "    </tr>\n",
       "    <tr>\n",
       "      <th>669</th>\n",
       "      <td>19.397</td>\n",
       "      <td>84.86</td>\n",
       "      <td>14.35</td>\n",
       "      <td>2016-11-24</td>\n",
       "      <td>19:16:00</td>\n",
       "    </tr>\n",
       "    <tr>\n",
       "      <th>670</th>\n",
       "      <td>20.117</td>\n",
       "      <td>84.99</td>\n",
       "      <td>14.33</td>\n",
       "      <td>2016-11-24</td>\n",
       "      <td>19:16:00</td>\n",
       "    </tr>\n",
       "    <tr>\n",
       "      <th>671</th>\n",
       "      <td>17.995</td>\n",
       "      <td>86.21</td>\n",
       "      <td>6.88</td>\n",
       "      <td>2016-11-24</td>\n",
       "      <td>19:17:00</td>\n",
       "    </tr>\n",
       "  </tbody>\n",
       "</table>\n",
       "<p>672 rows × 5 columns</p>\n",
       "</div>"
      ],
      "text/plain": [
       "     Ping (ms)  Download (Mbit/s)  Upload (Mbit/s)        Date      Time\n",
       "0       26.992              91.80            14.31  2016-11-24  13:36:00\n",
       "1       24.532              88.19            14.12  2016-11-24  13:36:00\n",
       "2       20.225              59.86            14.11  2016-11-24  13:37:00\n",
       "3       19.332              91.81            14.22  2016-11-24  13:37:00\n",
       "4       22.494              92.05            14.08  2016-11-24  13:38:00\n",
       "..         ...                ...              ...         ...       ...\n",
       "667     23.073              83.97            14.18  2016-11-24  19:15:00\n",
       "668     20.952              88.67            14.35  2016-11-24  19:15:00\n",
       "669     19.397              84.86            14.35  2016-11-24  19:16:00\n",
       "670     20.117              84.99            14.33  2016-11-24  19:16:00\n",
       "671     17.995              86.21             6.88  2016-11-24  19:17:00\n",
       "\n",
       "[672 rows x 5 columns]"
      ]
     },
     "execution_count": 39,
     "metadata": {},
     "output_type": "execute_result"
    }
   ],
   "source": [
    "df_compact"
   ]
  },
  {
   "cell_type": "code",
   "execution_count": null,
   "metadata": {},
   "outputs": [],
   "source": []
  },
  {
   "cell_type": "code",
   "execution_count": null,
   "metadata": {},
   "outputs": [],
   "source": []
  }
 ],
 "metadata": {
  "kernelspec": {
   "display_name": "Python 3 (ipykernel)",
   "language": "python",
   "name": "python3"
  },
  "language_info": {
   "codemirror_mode": {
    "name": "ipython",
    "version": 3
   },
   "file_extension": ".py",
   "mimetype": "text/x-python",
   "name": "python",
   "nbconvert_exporter": "python",
   "pygments_lexer": "ipython3",
   "version": "3.8.13"
  }
 },
 "nbformat": 4,
 "nbformat_minor": 2
}
