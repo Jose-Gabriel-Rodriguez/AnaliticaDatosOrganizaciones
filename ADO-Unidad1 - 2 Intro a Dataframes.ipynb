{
 "cells": [
  {
   "cell_type": "markdown",
   "metadata": {},
   "source": [
    "![](CintillaTecNM-ITD.png)"
   ]
  },
  {
   "cell_type": "markdown",
   "metadata": {},
   "source": [
    "\n",
    "# Analítica de Datos en las Organizaciones\n",
    "\n",
    "# Docente: José Gabriel Rodríguez Rivas\n",
    "\n",
    "\n",
    "# Unidad I   Introducción a los Datos\n",
    "\n",
    "## Intrduccion a  Dataframes\n",
    "\n",
    "\n",
    "[1.1 Introduccion a **Dataframes** en Pandas](#id1)<br>\n",
    "[1.2 Cargar CSV como un dataframe](#id5)<br>\n",
    "... [1.2.1 Añadir encabezados a dataframe](#id51)<br>\n",
    "[1.3 Indexing dataframes ](#id2)<br>\n",
    "[1.4 Copiar un dataframe](#id4)<br>\n",
    "[1.5 Consultas en un dataframe](#id6)<br>\n",
    "... [1.5.1 Consultar especificando criterios de selección y columnas a mostrar](#id61)<br>\n",
    "... [1.5.2 Obtener los Valores Unicos de una columna en un dataframe](#id62)<br>\n",
    "... [1.5.3 Medir el espacio en memoria que ocupa el dataframe](#id63)<br>\n",
    "... [1.5.4 Ejercicios de Consultas en un dataframe](#id64)<br>\n",
    "[1.6 Borrar columnas o renglones en dataframes  ](#id7)<br>\n",
    "[1.7 Agregar columnas en dataframes  ](#id8)<br>\n",
    "...  [5.8.1  Reemplazar valores ](#id81)<br>\n",
    "[1.8 Group by dataframe](#id9)<br>\n",
    "... [1.8.1 Ejercicios de Group By](#id91)<br> \n",
    "... [1.8.2 Aggregación](#id92)<br> \n",
    "[1.9 Exportar Dataframe a CSV, Excel](#id11)<br>\n",
    "[1.10 Leer archivo de Excel](#id13)<br>"
   ]
  },
  {
   "cell_type": "markdown",
   "metadata": {},
   "source": [
    "![](Pandas_python.png)\n",
    "\n",
    "## Pandas \n",
    "\n",
    "- Es una **biblioteca de código abierto** para Python que agrega **estructuras de datos de alto rendimiento** y **herramientas para el análisis de grandes conjuntos de datos**. \n",
    "- Las **estructuras de datos de pandas** incluyen las **series** y las estructuras **dataframes (marco de datos)**. \n",
    "- **Los dataframes son la principal estructura de pandas**.\n",
    "- Pandas es una **librería externa** y se tiene que instalar. (En el caso de Anaconda viene instalado).\n",
    "- Se importa en un programa de Python mediante la instruccion import.\n",
    "- Es convencional utilizar **import pandas as pd** para facilitar la escritura de las referencias a los componentes de pandas. \n"
   ]
  },
  {
   "cell_type": "markdown",
   "metadata": {},
   "source": [
    "##  1.1 Introducción a Dataframes en Pandas   <a id='id1'> </a>\n",
    "\n",
    "![](dataframe.png)\n",
    "\n",
    "### Dataframe\n",
    "\n",
    "- Un DataFrame es conceptualmente un **objeto de serie bidimensional, donde hay un índice y varias columnas de contenido**, con cada columna que tiene una etiqueta. \n",
    "- Un Dataframe es una matriz de dos ejes etiquetada. Es como una tabla de datos de Excel.\n",
    "- Se utiliza para **almacenar cualquier tipo de información**. \n",
    "- El Dataframe (marcos de datos) son la principal estructura de pandas, además de la más utilizada para el análisis de datos.\n",
    "- Loss marcos de datos se construyen fácilmente de una variedad de otras estructuras de datos y archivos externos, como archivos de Excel o achivos CSV. \n",
    "- Hay una **amplia variedad de métodos disponibles** para objetos de marcos de datos. \n",
    "- Las filas y columnas se pueden manipular de diversas maneras y los operadores están disponibles para realizar transformaciones matemáticas, de cadena y lógicas al contenido del marco de datos.\n",
    "\n",
    "\n",
    "![](The_dataframe.png)"
   ]
  },
  {
   "cell_type": "markdown",
   "metadata": {},
   "source": [
    "###  Documentación de Referencia\n",
    "\n",
    "- Lista de métodos de dataframe  \n",
    "https://pandas.pydata.org/docs/reference/api/pandas.DataFrame.html\n"
   ]
  },
  {
   "cell_type": "code",
   "execution_count": null,
   "metadata": {},
   "outputs": [],
   "source": []
  },
  {
   "cell_type": "code",
   "execution_count": null,
   "metadata": {},
   "outputs": [],
   "source": []
  },
  {
   "cell_type": "code",
   "execution_count": null,
   "metadata": {},
   "outputs": [],
   "source": []
  },
  {
   "cell_type": "code",
   "execution_count": null,
   "metadata": {},
   "outputs": [],
   "source": []
  },
  {
   "cell_type": "code",
   "execution_count": null,
   "metadata": {},
   "outputs": [],
   "source": []
  },
  {
   "cell_type": "markdown",
   "metadata": {},
   "source": [
    "### Acesso a datos del dataframe\n",
    "\n",
    "- Se puede consultar un dataframe de pandas, ya sea **por la posición del índice o por la etiqueta de índice**. \n",
    "- Si no le das un índice a la serie o dataframe, la posición y la etiqueta son efectivamente los mismos valores. \n",
    "- **Para consultar por la etiqueta de índice**, puede utilizar **el atributo loc**.\n",
    "- **Para consultar por ubicación numérica**, a partir de cero, **utilice el atributo iloc**.\n",
    "\n",
    "###   Atributo loc  (acceder por índice)\n",
    "- Una sola etiqueta, por ejemplo: **5** o **'a'**, (tenga en cuenta que **5** se interpreta como una etiqueta del índice y nunca como una posición entera a lo largo del índice).\n",
    "- Una lista o matriz de etiquetas, por ejemplo: **['a', 'B', 'C']**.\n",
    "- Un objeto de corte con etiquetas, por ejemplo: **'a': 'f'**.\n",
    "- Una matriz booleana de la misma longitud que el eje que se está cortando, p. **[Verdadero, Falso, Verdadero]**.\n",
    "\n",
    "\n",
    "### Atributo iloc  (acceder por índice entero)\n",
    "- Un número entero, p. 5.\n",
    "- Una lista o matriz de enteros, p. [4, 3, 0].\n",
    "- Un objeto de segmento con enteros, p. 1:7."
   ]
  },
  {
   "cell_type": "code",
   "execution_count": null,
   "metadata": {},
   "outputs": [],
   "source": []
  },
  {
   "cell_type": "code",
   "execution_count": null,
   "metadata": {},
   "outputs": [],
   "source": []
  },
  {
   "cell_type": "code",
   "execution_count": null,
   "metadata": {},
   "outputs": [],
   "source": []
  },
  {
   "cell_type": "markdown",
   "metadata": {},
   "source": [
    "###  Searching in both axes\n",
    "\n",
    "- DataFrame de Pandas permite seleccionar rápidamente datos basados en múltiples ejes. \n",
    "- Por ejemplo, se desea  listar la recuadación de Impuestos de Campeche.  \n",
    "- Proporcionamos dos parámetros al atributo loc, **el primero es el índice de fila y el otro el nombre de columna**."
   ]
  },
  {
   "cell_type": "code",
   "execution_count": null,
   "metadata": {},
   "outputs": [],
   "source": []
  },
  {
   "cell_type": "code",
   "execution_count": null,
   "metadata": {},
   "outputs": [],
   "source": []
  },
  {
   "cell_type": "code",
   "execution_count": null,
   "metadata": {},
   "outputs": [],
   "source": []
  },
  {
   "cell_type": "code",
   "execution_count": null,
   "metadata": {},
   "outputs": [],
   "source": []
  },
  {
   "cell_type": "code",
   "execution_count": null,
   "metadata": {},
   "outputs": [],
   "source": []
  },
  {
   "cell_type": "markdown",
   "metadata": {},
   "source": [
    "##   1.2 Cargar CSV como un dataframe  <a id='id5'> </a> \n",
    "\n",
    "- Lea un archivo de valores separados por comas (csv) en DataFrame. \n",
    "- También admite, opcionalmente, iterar o dividir el archivo en fragmentos."
   ]
  },
  {
   "cell_type": "code",
   "execution_count": null,
   "metadata": {},
   "outputs": [],
   "source": []
  },
  {
   "cell_type": "code",
   "execution_count": null,
   "metadata": {},
   "outputs": [],
   "source": []
  },
  {
   "cell_type": "markdown",
   "metadata": {},
   "source": [
    "### Tipo de Datos\n",
    "\n",
    "- Los datos se encuentran en una variedad de tipos.\n",
    "- Los tipos principales almacenados en dataframes de Pandas son <b>object</b>, <b>float</b>, <b>int</b>, <b>bool</b> y <b>datetime64</b>. \n",
    "- Para aprender mejor acerca de cada atributo es mejor para nosotros saber el tipo de dato de cada columna. \n",
    "- En Pandas, podemos usar el atributo **df.dtypes**.\n"
   ]
  },
  {
   "cell_type": "code",
   "execution_count": 17,
   "metadata": {
    "scrolled": true
   },
   "outputs": [
    {
     "name": "stdout",
     "output_type": "stream",
     "text": [
      "<class 'pandas.core.frame.DataFrame'>\n",
      "RangeIndex: 984288 entries, 0 to 984287\n",
      "Data columns (total 35 columns):\n",
      " #   Column               Non-Null Count   Dtype \n",
      "---  ------               --------------   ----- \n",
      " 0   FECHA_ACTUALIZACION  984288 non-null  object\n",
      " 1   ID_REGISTRO          984288 non-null  object\n",
      " 2   ORIGEN               984288 non-null  int64 \n",
      " 3   SECTOR               984288 non-null  int64 \n",
      " 4   ENTIDAD_UM           984288 non-null  int64 \n",
      " 5   SEXO                 984288 non-null  object\n",
      " 6   ENTIDAD_NAC          984288 non-null  object\n",
      " 7   ENTIDAD_RES          984288 non-null  int64 \n",
      " 8   MUNICIPIO_RES        984288 non-null  int64 \n",
      " 9   TIPO_PACIENTE        984288 non-null  object\n",
      " 10  FECHA_INGRESO        984288 non-null  object\n",
      " 11  FECHA_SINTOMAS       984288 non-null  object\n",
      " 12  FECHA_DEF            984288 non-null  object\n",
      " 13  INTUBADO             984288 non-null  object\n",
      " 14  NEUMONIA             984288 non-null  object\n",
      " 15  EDAD                 984288 non-null  int64 \n",
      " 16  NACIONALIDAD         984288 non-null  int64 \n",
      " 17  EMBARAZO             984288 non-null  object\n",
      " 18  HABLA_LENGUA_INDIG   984288 non-null  object\n",
      " 19  DIABETES             984288 non-null  object\n",
      " 20  EPOC                 984288 non-null  object\n",
      " 21  ASMA                 984288 non-null  object\n",
      " 22  INMUSUPR             984288 non-null  object\n",
      " 23  HIPERTENSION         984288 non-null  object\n",
      " 24  OTRA_COM             984288 non-null  object\n",
      " 25  CARDIOVASCULAR       984288 non-null  object\n",
      " 26  OBESIDAD             984288 non-null  object\n",
      " 27  RENAL_CRONICA        984288 non-null  object\n",
      " 28  TABAQUISMO           984288 non-null  object\n",
      " 29  OTRO_CASO            984288 non-null  object\n",
      " 30  RESULTADO            984288 non-null  object\n",
      " 31  MIGRANTE             984288 non-null  int64 \n",
      " 32  PAIS_NACIONALIDAD    984288 non-null  object\n",
      " 33  PAIS_ORIGEN          984288 non-null  object\n",
      " 34  UCI                  984288 non-null  object\n",
      "dtypes: int64(8), object(27)\n",
      "memory usage: 262.8+ MB\n"
     ]
    }
   ],
   "source": [
    "df.info()"
   ]
  },
  {
   "cell_type": "code",
   "execution_count": null,
   "metadata": {},
   "outputs": [],
   "source": []
  },
  {
   "cell_type": "code",
   "execution_count": null,
   "metadata": {},
   "outputs": [],
   "source": []
  },
  {
   "cell_type": "code",
   "execution_count": null,
   "metadata": {},
   "outputs": [],
   "source": []
  },
  {
   "cell_type": "markdown",
   "metadata": {},
   "source": [
    "### Métodos head() y tail()\n",
    "\n",
    "Después de leer el conjunto de datos podemos utilizar los siguientes 2 métodos:\n",
    "\n",
    "- **head(n)** para revisar las primeras n filas del dataframe; donde n es u entero. \n",
    "- **tail(n)** mostrará las n filas del final del dataframe."
   ]
  },
  {
   "cell_type": "code",
   "execution_count": null,
   "metadata": {},
   "outputs": [],
   "source": []
  },
  {
   "cell_type": "code",
   "execution_count": null,
   "metadata": {},
   "outputs": [],
   "source": []
  },
  {
   "cell_type": "code",
   "execution_count": null,
   "metadata": {},
   "outputs": [],
   "source": []
  },
  {
   "cell_type": "markdown",
   "metadata": {},
   "source": [
    "### 5.5.1  Añadir encabezados a dataframe <a id='id51'> </a> "
   ]
  },
  {
   "cell_type": "code",
   "execution_count": null,
   "metadata": {},
   "outputs": [],
   "source": []
  },
  {
   "cell_type": "code",
   "execution_count": null,
   "metadata": {},
   "outputs": [],
   "source": []
  },
  {
   "cell_type": "code",
   "execution_count": null,
   "metadata": {},
   "outputs": [],
   "source": []
  },
  {
   "cell_type": "code",
   "execution_count": null,
   "metadata": {},
   "outputs": [],
   "source": []
  },
  {
   "cell_type": "markdown",
   "metadata": {},
   "source": [
    "##  1.3 Indexing dataframes   <a id='id2'> </a>\n",
    "\n",
    "- El índice es el modo de acceso a un valor en Series y dataframes. Algo así como los nombres de celdas (A1, B2, etc) en Excel para acceder a un valor específico.\n",
    "- Podemos modificar el valor del índice que se asignó por defecto\n",
    "- Establecer una columna como índice, permite seleccionar más fácil un valor(es) a buscar\n",
    "- Se establece un indice con el comando **set_index()**.\n",
    "- **set_index()** es un proceso destructivo, no mantiene el índice actual (En versiones anteriores de Pandas). \n",
    "- Si quieres mantener el index actual, necesitas crear manualmente una nueva columna y copiar en ella los valores desde el atributo index."
   ]
  },
  {
   "cell_type": "code",
   "execution_count": null,
   "metadata": {},
   "outputs": [],
   "source": []
  },
  {
   "cell_type": "code",
   "execution_count": null,
   "metadata": {},
   "outputs": [],
   "source": []
  },
  {
   "cell_type": "code",
   "execution_count": null,
   "metadata": {},
   "outputs": [],
   "source": []
  },
  {
   "cell_type": "markdown",
   "metadata": {},
   "source": [
    "##  Cambiar índice"
   ]
  },
  {
   "cell_type": "code",
   "execution_count": null,
   "metadata": {},
   "outputs": [],
   "source": []
  },
  {
   "cell_type": "code",
   "execution_count": null,
   "metadata": {},
   "outputs": [],
   "source": []
  },
  {
   "cell_type": "code",
   "execution_count": null,
   "metadata": {},
   "outputs": [],
   "source": []
  },
  {
   "cell_type": "code",
   "execution_count": null,
   "metadata": {},
   "outputs": [],
   "source": []
  },
  {
   "cell_type": "markdown",
   "metadata": {},
   "source": [
    "##  1.4 Copiar un dataframe   <a id='id4'> </a> \n",
    "\n",
    "> **DataFrame.copy(deep=True)**\n",
    "\n",
    "- **copy** Hace una copia de los índices y datos de este objeto.\n",
    "\n",
    "- Cuando **deep=True** (predeterminado), se **creará un nuevo objeto con una copia de los datos e índices del objeto que llama**. Las modificaciones a los datos o índices de la copia no se reflejarán en el objeto original (ver notas a continuación).\n",
    "\n",
    "- Cuando **deep=False**, se creará un **nuevo objeto sin copiar los datos o el índice** del objeto que llama (solo se copian las referencias a los datos y el índice). Cualquier cambio en los datos del original se reflejará en la copia superficial (y viceversa)."
   ]
  },
  {
   "cell_type": "code",
   "execution_count": null,
   "metadata": {},
   "outputs": [],
   "source": []
  },
  {
   "cell_type": "code",
   "execution_count": null,
   "metadata": {},
   "outputs": [],
   "source": []
  },
  {
   "cell_type": "code",
   "execution_count": null,
   "metadata": {},
   "outputs": [],
   "source": []
  },
  {
   "cell_type": "markdown",
   "metadata": {},
   "source": [
    "## 1.5 Consultas en un dataframe  <a id='id6'> </a> \n",
    "\n",
    "- Las consultas en dataframes se realizan usando el **enmascaramiento booleano**. \n",
    "- El enmascaramiento booleano provoca que las consultas sean más rápidas y eficientes en Numpy.\n",
    "- Una **máscara booleana es una matriz que puede ser de una dimensión** (una series) , o **dos dimensiones (dataframe)**, donde cada uno de los valores de la matriz es verdadero o falso. \n",
    "- Esta **matriz se superpone** esencialmente **sobre la estructura de datos** que estamos consultando, y **cualquier celda alineada con el valor verdadero sera admitida en nuestro resultado final, y cualquier signo alineado con un valor falso no sera admitido**.\n",
    "- El enmascaramiento booleano es poderoso conceptualmente y es la piedra angular de las consultas eficientes de NumPy y Pandas.\n",
    "- Las máscaras booleanas se crean aplicando operadores directamente a la serie de pandas o objetos dataframe.\n"
   ]
  },
  {
   "cell_type": "code",
   "execution_count": null,
   "metadata": {},
   "outputs": [],
   "source": []
  },
  {
   "cell_type": "code",
   "execution_count": null,
   "metadata": {},
   "outputs": [],
   "source": []
  },
  {
   "cell_type": "code",
   "execution_count": null,
   "metadata": {},
   "outputs": [],
   "source": []
  },
  {
   "cell_type": "markdown",
   "metadata": {},
   "source": [
    "### La funcion where\n",
    "\n",
    "- La función **where toma una mascara booleana como una condición, lo aplica al dataframe** o a la series, y **retorna una nuevo dataframe** o series de la misma forma. \n",
    "\n"
   ]
  },
  {
   "cell_type": "code",
   "execution_count": null,
   "metadata": {},
   "outputs": [],
   "source": []
  },
  {
   "cell_type": "code",
   "execution_count": null,
   "metadata": {},
   "outputs": [],
   "source": []
  },
  {
   "cell_type": "code",
   "execution_count": null,
   "metadata": {},
   "outputs": [],
   "source": []
  },
  {
   "cell_type": "markdown",
   "metadata": {},
   "source": [
    "### Atajo más rápido para consultas o método abreviado\n",
    "\n",
    "- Actualmente **no tenemos que usar la función where explícitamente**. \n",
    "- pandas permite al operador de indexación tomar una mascara booleana como un valor en lugar de solo una lista de nombres de columnas. \n",
    "- **La sintaxis puede parecer un poco desordenada**, especialmente si no estás acostumbrado a programar lenguajes con operadores sobrecargados, pero el resultado es que puede filtrar y reducir los dataframes con relativa rapidez.\n",
    "- Aquí se prsentará un ejemplo más conciso de cómo podríamos consultar este dataframe. \n",
    "- Notará que **no hay NaNs cuando consulta el dataframe de esta manera. pandas automáticamente filtra las salidas de las filas con valores**. "
   ]
  },
  {
   "cell_type": "code",
   "execution_count": null,
   "metadata": {},
   "outputs": [],
   "source": []
  },
  {
   "cell_type": "code",
   "execution_count": null,
   "metadata": {},
   "outputs": [],
   "source": []
  },
  {
   "cell_type": "markdown",
   "metadata": {},
   "source": [
    "### Condiciones mas complejas usando los operadores AND y OR\n",
    "\n",
    "- Operador **AND**  &  (Todas las condiciones unidas por un AND se deben cumplir)\n",
    "- Operador **OR**   | (Cualquiera de las condiciones unidas por un OR se deben cumplir)"
   ]
  },
  {
   "cell_type": "code",
   "execution_count": null,
   "metadata": {},
   "outputs": [],
   "source": []
  },
  {
   "cell_type": "code",
   "execution_count": null,
   "metadata": {},
   "outputs": [],
   "source": []
  },
  {
   "cell_type": "code",
   "execution_count": null,
   "metadata": {},
   "outputs": [],
   "source": []
  },
  {
   "cell_type": "markdown",
   "metadata": {},
   "source": [
    "### 1.5.1 Consultar especificando criterios de selección y columnas a mostrar  <a id='id61'> </a>\n",
    "\n",
    "- Primero se especifican los criterios de seleccion\n",
    "- Enseguida la lista de columnas a mostrar"
   ]
  },
  {
   "cell_type": "code",
   "execution_count": null,
   "metadata": {},
   "outputs": [],
   "source": []
  },
  {
   "cell_type": "code",
   "execution_count": null,
   "metadata": {},
   "outputs": [],
   "source": []
  },
  {
   "cell_type": "markdown",
   "metadata": {},
   "source": [
    "### 1.5.2  Obtener los Valores Únicos de una columna en un dataframe <a id='id62'> </a> "
   ]
  },
  {
   "cell_type": "code",
   "execution_count": null,
   "metadata": {},
   "outputs": [],
   "source": []
  },
  {
   "cell_type": "code",
   "execution_count": null,
   "metadata": {},
   "outputs": [],
   "source": []
  },
  {
   "cell_type": "markdown",
   "metadata": {},
   "source": [
    "### 1.5.3 Medir el espacio en memoria que ocupa el dataframe  <a id='id63'> </a>\n",
    "\n"
   ]
  },
  {
   "cell_type": "code",
   "execution_count": null,
   "metadata": {},
   "outputs": [],
   "source": []
  },
  {
   "cell_type": "code",
   "execution_count": null,
   "metadata": {},
   "outputs": [],
   "source": []
  },
  {
   "cell_type": "markdown",
   "metadata": {},
   "source": [
    "### 1.5.4 Ejercicios de consultas en el dataframe  <a id='id64'> </a>\n",
    "\n",
    "1. Consultar en el dataframe COVID los que son de Campeche y son Positivos\n",
    "2. Consultar en el dataframe COVID los que son de Aguascalientes y están hospitalizados\n",
    "3. Consultar en el dataframe COVID los que son de Durango, Son positivos, tienen Obesidad, tienen diabetes y tienen hipertension\n",
    "4. Consultar en el dataframe COVID los que son de Colima o de Morelos y que son positivos"
   ]
  },
  {
   "cell_type": "code",
   "execution_count": null,
   "metadata": {},
   "outputs": [],
   "source": []
  },
  {
   "cell_type": "code",
   "execution_count": null,
   "metadata": {},
   "outputs": [],
   "source": []
  },
  {
   "cell_type": "code",
   "execution_count": null,
   "metadata": {},
   "outputs": [],
   "source": []
  },
  {
   "cell_type": "markdown",
   "metadata": {},
   "source": [
    "## 1.6 Borrar columnas o renglones en dataframes  <a id='id7'> </a> \n",
    "\n",
    "- Se usa la funcion **drop** para borrar renglones o columnas\n",
    "- La función drop no cambia el DataFrame de forma predeterminada, en su lugar, devuelve una copia del DataFrame con las filas eliminadas.\n",
    "\n",
    "**Drop** tiene dos parámetros opcionales \n",
    "- El primero se llama **in place** y si se establece en **True**, el DataFrame se actualizará en su lugar, en lugar de devolver una copia. \n",
    "- El segundo parámetro es **axis**, que especifica que se debe borrar. De forma predeterminada, este valor es **0 para borrar las filas**. Pero puede cambiarlo a **1 si desea borrar una columna**."
   ]
  },
  {
   "cell_type": "code",
   "execution_count": null,
   "metadata": {},
   "outputs": [],
   "source": []
  },
  {
   "cell_type": "code",
   "execution_count": null,
   "metadata": {},
   "outputs": [],
   "source": []
  },
  {
   "cell_type": "markdown",
   "metadata": {},
   "source": [
    "### Alternativa 2 de borrado de columnas de dataframes\n",
    "\n",
    "- Esta opción tiene efecto inmediato"
   ]
  },
  {
   "cell_type": "code",
   "execution_count": null,
   "metadata": {},
   "outputs": [],
   "source": []
  },
  {
   "cell_type": "code",
   "execution_count": null,
   "metadata": {},
   "outputs": [],
   "source": []
  },
  {
   "cell_type": "code",
   "execution_count": null,
   "metadata": {},
   "outputs": [],
   "source": []
  },
  {
   "cell_type": "markdown",
   "metadata": {},
   "source": [
    "## 1.7 Agregar columnas en dataframes <a id='id8'> </a> "
   ]
  },
  {
   "cell_type": "code",
   "execution_count": null,
   "metadata": {},
   "outputs": [],
   "source": []
  },
  {
   "cell_type": "code",
   "execution_count": null,
   "metadata": {},
   "outputs": [],
   "source": []
  },
  {
   "cell_type": "code",
   "execution_count": null,
   "metadata": {},
   "outputs": [],
   "source": []
  },
  {
   "cell_type": "markdown",
   "metadata": {},
   "source": [
    "### 1.7.1  Reemplazar valores   <a id='id81'> </a> \n",
    "\n",
    "- En el dataset COVID necesitamos reemplazar los valores que vienen codificados como SEXO, RESULTADO, etc.\n"
   ]
  },
  {
   "cell_type": "code",
   "execution_count": null,
   "metadata": {},
   "outputs": [],
   "source": []
  },
  {
   "cell_type": "code",
   "execution_count": null,
   "metadata": {},
   "outputs": [],
   "source": []
  },
  {
   "cell_type": "code",
   "execution_count": null,
   "metadata": {},
   "outputs": [],
   "source": []
  },
  {
   "cell_type": "markdown",
   "metadata": {},
   "source": [
    "\n",
    "## 1.8 Group by dataframe  <a id='id9'> </a> \n",
    "\n",
    "- Una operación groupby implica alguna combinación de dividir el objeto en función de los valores de una columna o más, aplicar una función y combinar los resultados. \n",
    "- Esto se puede usar para agrupar grandes cantidades de datos y calcular operaciones en estos grupos.\n",
    "- **Groupby** esencialmente **divide los datos en diferentes grupos dependiendo de la(s) variable(s) de su elección**.\n",
    "\n",
    "\"agrupar por\" implica uno o más de los siguientes pasos:\n",
    "\n",
    "- Dividir los datos en grupos según algunos criterios.\n",
    "- Aplicar una función a cada grupo de forma independiente.\n",
    "- Combinar los resultados en una estructura de datos.\n",
    "\n",
    "![](GroupBy.png)"
   ]
  },
  {
   "cell_type": "code",
   "execution_count": null,
   "metadata": {},
   "outputs": [],
   "source": []
  },
  {
   "cell_type": "code",
   "execution_count": null,
   "metadata": {},
   "outputs": [],
   "source": []
  },
  {
   "cell_type": "markdown",
   "metadata": {},
   "source": [
    "### Ejemplo 1 \n",
    "\n",
    "#### Agrupar por entidad de nacimiento y contar cuantas pruebas se realizaron por entidad"
   ]
  },
  {
   "cell_type": "code",
   "execution_count": null,
   "metadata": {},
   "outputs": [],
   "source": []
  },
  {
   "cell_type": "markdown",
   "metadata": {},
   "source": [
    "###  1.8.1 Ejercicios de Group By      <a id='id91'> </a> \n",
    "\n",
    "1. Calcular cuantas pruebas se realizaron por edad\n",
    "2. Mostrar por Sexo los resultados obtenidos por la prueba COVID\n",
    "3. Mostrar el detalle de la situacion de la DIABETES de las personas que dieron positivo desglosado por sexo\n",
    "4. Mostrar el detalle de la situacion de TIPO_PACIENTE de las personas que dieron positivo desglosado por sexo\n",
    "5. Generar un reporte que muestre el número de defunciones desglozado por estado y sexo\n",
    "\n"
   ]
  },
  {
   "cell_type": "markdown",
   "metadata": {},
   "source": [
    "### Ejercicio 1\n",
    "\n",
    "- Calcular cuantas pruebas se realizaron por edad"
   ]
  },
  {
   "cell_type": "code",
   "execution_count": null,
   "metadata": {},
   "outputs": [],
   "source": []
  },
  {
   "cell_type": "code",
   "execution_count": null,
   "metadata": {},
   "outputs": [],
   "source": []
  },
  {
   "cell_type": "markdown",
   "metadata": {},
   "source": [
    "###  Segmentacion de datos por  edades\n",
    "\n",
    "- Se usa la funcion **cut** de pandas\n",
    "- Usar **cut** cuando se desea segmentar y ordenar valores de datos en contenedores. \n",
    "- Esta función también es útil para **pasar de una variable continua a una variable categórica**. \n",
    "- Por ejemplo, cortar podría **convertir edades en grupos de rangos de edad**. \n",
    "- Admite el agrupamiento en un número igual de contenedores o en una matriz de contenedores especificada previamente."
   ]
  },
  {
   "cell_type": "code",
   "execution_count": null,
   "metadata": {},
   "outputs": [],
   "source": []
  },
  {
   "cell_type": "code",
   "execution_count": null,
   "metadata": {},
   "outputs": [],
   "source": []
  },
  {
   "cell_type": "code",
   "execution_count": null,
   "metadata": {},
   "outputs": [],
   "source": []
  },
  {
   "cell_type": "markdown",
   "metadata": {},
   "source": [
    "### Ejercicio 2\n",
    "\n",
    "- Mostrar por Sexo los resultados obtenidos por la prueba COVID"
   ]
  },
  {
   "cell_type": "code",
   "execution_count": null,
   "metadata": {},
   "outputs": [],
   "source": []
  },
  {
   "cell_type": "code",
   "execution_count": null,
   "metadata": {},
   "outputs": [],
   "source": []
  },
  {
   "cell_type": "markdown",
   "metadata": {},
   "source": [
    "### Ejercicio 3\n",
    "\n",
    "- Mostrar el detalle de la situacion de la DIABETES de las personas que dieron positivo desglosado por sexo"
   ]
  },
  {
   "cell_type": "code",
   "execution_count": null,
   "metadata": {},
   "outputs": [],
   "source": []
  },
  {
   "cell_type": "code",
   "execution_count": null,
   "metadata": {},
   "outputs": [],
   "source": []
  },
  {
   "cell_type": "markdown",
   "metadata": {},
   "source": [
    "### Ejercicio 4\n",
    "\n",
    "- Mostrar el detalle de la situacion de TIPO_PACIENTE de las personas que dieron positivo desglosado por sexo"
   ]
  },
  {
   "cell_type": "code",
   "execution_count": null,
   "metadata": {},
   "outputs": [],
   "source": []
  },
  {
   "cell_type": "code",
   "execution_count": null,
   "metadata": {},
   "outputs": [],
   "source": []
  },
  {
   "cell_type": "markdown",
   "metadata": {},
   "source": [
    "### Ejercicio 5\n",
    "\n",
    "- Generar un reporte que muestre el número de defunciones desglozado por estado y sexo"
   ]
  },
  {
   "cell_type": "code",
   "execution_count": null,
   "metadata": {},
   "outputs": [],
   "source": []
  },
  {
   "cell_type": "code",
   "execution_count": null,
   "metadata": {},
   "outputs": [],
   "source": []
  },
  {
   "cell_type": "markdown",
   "metadata": {},
   "source": [
    "### Ejercicio 6\n",
    "\n",
    "- Calcular cuantas "
   ]
  },
  {
   "cell_type": "code",
   "execution_count": null,
   "metadata": {},
   "outputs": [],
   "source": []
  },
  {
   "cell_type": "code",
   "execution_count": null,
   "metadata": {},
   "outputs": [],
   "source": []
  },
  {
   "cell_type": "code",
   "execution_count": null,
   "metadata": {},
   "outputs": [],
   "source": []
  },
  {
   "cell_type": "markdown",
   "metadata": {},
   "source": [
    "## 1.8.2  Aggregación <a id='id92'> </a> \n",
    "  \n",
    "- Una vez que se ha creado el objeto **GroupBy**, hay varios métodos disponibles para realizar un cálculo en los datos agrupados.\n",
    "- La API de agregación permite expresar múltiples operaciones de agregación de una manera concisa. El punto de entrada para la agregación es **DataFrame.aggregate() o el alias DataFrame.agg()**.\n",
    "\n",
    "#### Agregar con múltiples funciones\n",
    "\n",
    "- Puede pasar **múltiples argumentos de agregación como una lista**. \n",
    "- Los resultados de cada una de las funciones pasadas serán una fila en el DataFrame resultante. \n",
    "- Estos se nombran naturalmente a partir de la función de agregación.\n",
    "\n",
    "En muchas situaciones es posible que deseemos dividir el conjunto de datos en grupos y hacer algo con esos grupos. Es posible que deseemos realizar una de las siguientes acciones:  \n",
    "\n",
    "- Calcular una estadística de resumen (o estadísticas) para cada grupo. \n",
    "- Calcular sumas o medias de grupos.\n",
    "- Calcular los tamaños/conteos de los grupos.\n",
    "\n",
    "Fuente:  \n",
    "https://pandas.pydata.org/pandas-docs/stable/user_guide/groupby.html?highlight=filter#aggregation"
   ]
  },
  {
   "cell_type": "code",
   "execution_count": null,
   "metadata": {},
   "outputs": [],
   "source": []
  },
  {
   "cell_type": "code",
   "execution_count": null,
   "metadata": {},
   "outputs": [],
   "source": []
  },
  {
   "cell_type": "markdown",
   "metadata": {},
   "source": [
    "## 1.9 Exportar Dataframe a csv      <a id='id11'> </a> "
   ]
  },
  {
   "cell_type": "code",
   "execution_count": null,
   "metadata": {},
   "outputs": [],
   "source": []
  },
  {
   "cell_type": "code",
   "execution_count": null,
   "metadata": {},
   "outputs": [],
   "source": []
  },
  {
   "cell_type": "code",
   "execution_count": null,
   "metadata": {},
   "outputs": [],
   "source": []
  },
  {
   "cell_type": "markdown",
   "metadata": {},
   "source": [
    "## 1.10 Leer archivo de Excel   <a id='id13'> </a> \n",
    "\n",
    "Instalar librería  **xlrd**:\n",
    "\n",
    "- pip install xlrd\n",
    "- conda install -c anaconda xlrd\n",
    "- Entorno gráfico de Anaconda"
   ]
  },
  {
   "cell_type": "code",
   "execution_count": null,
   "metadata": {},
   "outputs": [],
   "source": []
  },
  {
   "cell_type": "code",
   "execution_count": null,
   "metadata": {},
   "outputs": [],
   "source": []
  },
  {
   "cell_type": "code",
   "execution_count": null,
   "metadata": {},
   "outputs": [],
   "source": []
  }
 ],
 "metadata": {
  "kernelspec": {
   "display_name": "Python 3 (ipykernel)",
   "language": "python",
   "name": "python3"
  },
  "language_info": {
   "codemirror_mode": {
    "name": "ipython",
    "version": 3
   },
   "file_extension": ".py",
   "mimetype": "text/x-python",
   "name": "python",
   "nbconvert_exporter": "python",
   "pygments_lexer": "ipython3",
   "version": "3.8.13"
  }
 },
 "nbformat": 4,
 "nbformat_minor": 2
}
