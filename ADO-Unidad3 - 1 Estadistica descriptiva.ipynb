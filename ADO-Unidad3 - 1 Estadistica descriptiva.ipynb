{
 "cells": [
  {
   "cell_type": "markdown",
   "id": "a794500f",
   "metadata": {},
   "source": [
    "\n",
    "![](CintillaTecNM-ITD.png)"
   ]
  },
  {
   "cell_type": "markdown",
   "id": "a87213da",
   "metadata": {},
   "source": [
    "\n",
    "# Analítica de Datos en las Organizaciones\n",
    "\n",
    "# Docente: José Gabriel Rodríguez Rivas\n",
    "\n",
    "\n",
    "# Unidad 3\n",
    "\n",
    "\n",
    "## "
   ]
  },
  {
   "cell_type": "markdown",
   "id": "2f90be65",
   "metadata": {},
   "source": [
    "#### Paso 1: Configure el entorno e importe los datos.\n",
    "\n",
    "Primero, importará los módulos necesarios para trabajar con marcos de datos (dataframes), y usará pandas para importar los datos de un archivo csv a un marco de datos. **Trabajará con un archivo que contiene ejemplos de control de calidad para cajas de 20 oz de un producto alimenticio**. Los datos se utilizan para verificar la precisión de las máquinas que cargan las cajas."
   ]
  },
  {
   "cell_type": "code",
   "execution_count": 1,
   "id": "34728ec1",
   "metadata": {},
   "outputs": [],
   "source": [
    "import pandas as pd\n",
    "import matplotlib.pyplot as plt\n"
   ]
  },
  {
   "cell_type": "markdown",
   "id": "245df62d",
   "metadata": {},
   "source": [
    "Importar los datos del archivo **rpi_describe.csv** mediante el método de pandas **read_csv**. Utilizar \"datos\" como nombre del marco de datos."
   ]
  },
  {
   "cell_type": "code",
   "execution_count": 3,
   "id": "503bbcac",
   "metadata": {},
   "outputs": [],
   "source": [
    "datos = pd.read_csv(\"rpi_describe.csv\")"
   ]
  },
  {
   "cell_type": "markdown",
   "id": "c78eddd3",
   "metadata": {},
   "source": [
    "Verificar que el archivo se haya importado correctamente mediante el uso de los métodos de pandas **head** y **tail** para el marco de datos. Usar tambien el método **info**"
   ]
  },
  {
   "cell_type": "code",
   "execution_count": 4,
   "id": "f19521df",
   "metadata": {},
   "outputs": [
    {
     "data": {
      "text/html": [
       "<div>\n",
       "<style scoped>\n",
       "    .dataframe tbody tr th:only-of-type {\n",
       "        vertical-align: middle;\n",
       "    }\n",
       "\n",
       "    .dataframe tbody tr th {\n",
       "        vertical-align: top;\n",
       "    }\n",
       "\n",
       "    .dataframe thead th {\n",
       "        text-align: right;\n",
       "    }\n",
       "</style>\n",
       "<table border=\"1\" class=\"dataframe\">\n",
       "  <thead>\n",
       "    <tr style=\"text-align: right;\">\n",
       "      <th></th>\n",
       "      <th>weight</th>\n",
       "    </tr>\n",
       "  </thead>\n",
       "  <tbody>\n",
       "    <tr>\n",
       "      <th>0</th>\n",
       "      <td>20.440</td>\n",
       "    </tr>\n",
       "    <tr>\n",
       "      <th>1</th>\n",
       "      <td>20.244</td>\n",
       "    </tr>\n",
       "    <tr>\n",
       "      <th>2</th>\n",
       "      <td>20.549</td>\n",
       "    </tr>\n",
       "    <tr>\n",
       "      <th>3</th>\n",
       "      <td>20.755</td>\n",
       "    </tr>\n",
       "    <tr>\n",
       "      <th>4</th>\n",
       "      <td>20.740</td>\n",
       "    </tr>\n",
       "  </tbody>\n",
       "</table>\n",
       "</div>"
      ],
      "text/plain": [
       "   weight\n",
       "0  20.440\n",
       "1  20.244\n",
       "2  20.549\n",
       "3  20.755\n",
       "4  20.740"
      ]
     },
     "execution_count": 4,
     "metadata": {},
     "output_type": "execute_result"
    }
   ],
   "source": [
    "datos.head()"
   ]
  },
  {
   "cell_type": "code",
   "execution_count": null,
   "id": "fbb51113",
   "metadata": {},
   "outputs": [],
   "source": []
  },
  {
   "cell_type": "code",
   "execution_count": null,
   "id": "883b7695",
   "metadata": {},
   "outputs": [],
   "source": []
  },
  {
   "cell_type": "code",
   "execution_count": null,
   "id": "ca074f6a",
   "metadata": {},
   "outputs": [],
   "source": []
  }
 ],
 "metadata": {
  "kernelspec": {
   "display_name": "Python 3 (ipykernel)",
   "language": "python",
   "name": "python3"
  },
  "language_info": {
   "codemirror_mode": {
    "name": "ipython",
    "version": 3
   },
   "file_extension": ".py",
   "mimetype": "text/x-python",
   "name": "python",
   "nbconvert_exporter": "python",
   "pygments_lexer": "ipython3",
   "version": "3.8.13"
  }
 },
 "nbformat": 4,
 "nbformat_minor": 5
}
