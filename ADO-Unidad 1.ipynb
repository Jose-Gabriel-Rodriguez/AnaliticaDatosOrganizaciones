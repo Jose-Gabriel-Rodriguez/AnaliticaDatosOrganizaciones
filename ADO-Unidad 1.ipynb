{
 "cells": [
  {
   "cell_type": "markdown",
   "metadata": {},
   "source": [
    "\n",
    "![](CintillaTecNM-ITD.png)"
   ]
  },
  {
   "cell_type": "markdown",
   "metadata": {},
   "source": [
    "\n",
    "# Analítica de Datos en las Organizaciones\n",
    "\n",
    "# Docente: José Gabriel Rodríguez Rivas\n",
    "\n",
    "\n",
    "# Unidad I   Introducción a los Datos\n",
    "\n",
    "\n",
    "## Introducción al Lenguaje de Programación Python\n",
    "\n",
    "[1.2 La funcion print](#id2)<br>\n",
    "[1.3 Tipos de datos](#id3)<br>\n",
    "[1.4 Operadores](#id4)<br>\n",
    "[1.5 Expresiones y variables](#id5)<br>\n",
    "[1.6 Entrada de datos](#id6)<br>\n",
    "[1.7 Condiciones -  Control de flujo del programa](#id7)<br>\n",
    "[1.8 Ciclos](#id8)<br>\n",
    "[1.9 Funciones](#id9)<br>\n",
    "[1.10 Manejo de excepciones](#id10)<br>"
   ]
  },
  {
   "cell_type": "markdown",
   "metadata": {},
   "source": [
    "###  Referencias de Markdown\n",
    "link  https://www.markdownguide.org/cheat-sheet/ \n",
    "\n",
    "Texto con link [Markdown Cheat Sheet](https://www.markdownguide.org/cheat-sheet/)\n"
   ]
  },
  {
   "cell_type": "markdown",
   "metadata": {},
   "source": [
    "###  Tema 1 Números\n",
    "***\n",
    "**Int.**  entero, es un número entero, positivo o negativo, sin decimales, de longitud ilimitada.\n",
    "\n",
    "**Float,**   Flotante, o \"número de punto flotante\" es un número, positivo o negativo, que contiene uno o más decimales.\n",
    "El flotante también puede ser un número científico con una \"e\" para indicar el exponente de 10.\n",
    "\n",
    "**Complex.**  Los números complejos se escriben con una \"j\" como parte imaginaria:\n",
    "\n",
    "x = 1.10  \n",
    "y = 12E4  \n",
    "z = 3+5j  \n",
    "w= 18  "
   ]
  },
  {
   "cell_type": "code",
   "execution_count": 1,
   "metadata": {},
   "outputs": [
    {
     "data": {
      "text/plain": [
       "5"
      ]
     },
     "execution_count": 1,
     "metadata": {},
     "output_type": "execute_result"
    }
   ],
   "source": [
    "3 + 2"
   ]
  },
  {
   "cell_type": "code",
   "execution_count": 2,
   "metadata": {},
   "outputs": [
    {
     "data": {
      "text/plain": [
       "3"
      ]
     },
     "execution_count": 2,
     "metadata": {},
     "output_type": "execute_result"
    }
   ],
   "source": [
    "10-7"
   ]
  },
  {
   "cell_type": "markdown",
   "metadata": {},
   "source": [
    "### Tema 2. Variables\n",
    "\n",
    "+ Python no tiene comandos para declarar una variable.\n",
    "\n",
    "+ Una variable se crea en el momento en que primero le asigna un valor.\n",
    "+ Las variables no necesitan ser declaradas con ningún tipo en particular e incluso pueden cambiar el tipo después de que se hayan establecido.\n",
    "+ Un nombre de variable debe comenzar con una letra o el carácter de subrayado\n",
    "+ Un nombre de variable no puede comenzar con un número\n",
    "+ Un nombre de variable solo puede contener caracteres alfanuméricos y guiones bajos (A-z, 0-9 y _)\n",
    "+ Los nombres de las variables distinguen entre mayúsculas y minúsculas (age, Age y AGE son tres variables diferentes)\n",
    "Nombre = \"Carlos\""
   ]
  },
  {
   "cell_type": "code",
   "execution_count": 3,
   "metadata": {},
   "outputs": [
    {
     "data": {
      "text/plain": [
       "'Carlos'"
      ]
     },
     "execution_count": 3,
     "metadata": {},
     "output_type": "execute_result"
    }
   ],
   "source": [
    "Nombre = \"Carlos\"\n",
    "Nombre"
   ]
  },
  {
   "cell_type": "code",
   "execution_count": 4,
   "metadata": {},
   "outputs": [
    {
     "data": {
      "text/plain": [
       "40"
      ]
     },
     "execution_count": 4,
     "metadata": {},
     "output_type": "execute_result"
    }
   ],
   "source": [
    "Edad = 40\n",
    "Edad"
   ]
  },
  {
   "cell_type": "code",
   "execution_count": 5,
   "metadata": {},
   "outputs": [
    {
     "name": "stdout",
     "output_type": "stream",
     "text": [
      "José Gabriel Rodriguez\n"
     ]
    }
   ],
   "source": [
    "## En el siguiente caso son 3 variables diferentes\n",
    "Nombre = \"José\"\n",
    "NOMBRE = \"Gabriel\"\n",
    "NOMbre = \"Rodriguez\"\n",
    "print(Nombre, NOMBRE, NOMbre)"
   ]
  },
  {
   "cell_type": "code",
   "execution_count": 6,
   "metadata": {},
   "outputs": [
    {
     "ename": "SyntaxError",
     "evalue": "cannot assign to True (1092637412.py, line 2)",
     "output_type": "error",
     "traceback": [
      "\u001b[1;36m  Input \u001b[1;32mIn [6]\u001b[1;36m\u001b[0m\n\u001b[1;33m    True = 100\u001b[0m\n\u001b[1;37m    ^\u001b[0m\n\u001b[1;31mSyntaxError\u001b[0m\u001b[1;31m:\u001b[0m cannot assign to True\n"
     ]
    }
   ],
   "source": [
    "## No se pueden asignar palabras reservadas de Python como nombres de variable\n",
    "True = 100\n",
    "print(True)"
   ]
  },
  {
   "cell_type": "code",
   "execution_count": 7,
   "metadata": {},
   "outputs": [
    {
     "name": "stdout",
     "output_type": "stream",
     "text": [
      "100\n"
     ]
    }
   ],
   "source": [
    "## En este caso si se crea la variable TRue porque la R mayuscula hace la diferencia \n",
    "## y Python No la reconoce como palabra reservada\n",
    "TRue = 100\n",
    "print(TRue)"
   ]
  },
  {
   "cell_type": "code",
   "execution_count": 8,
   "metadata": {},
   "outputs": [
    {
     "ename": "SyntaxError",
     "evalue": "cannot assign to operator (4076447692.py, line 2)",
     "output_type": "error",
     "traceback": [
      "\u001b[1;36m  Input \u001b[1;32mIn [8]\u001b[1;36m\u001b[0m\n\u001b[1;33m    Mi-Variable = 3\u001b[0m\n\u001b[1;37m    ^\u001b[0m\n\u001b[1;31mSyntaxError\u001b[0m\u001b[1;31m:\u001b[0m cannot assign to operator\n"
     ]
    }
   ],
   "source": [
    "# Se debe usar el guion bajo como separador de palabras como parte de un nombre de variable\n",
    "Mi-Variable = 3\n",
    "print(Mi-Variable)"
   ]
  },
  {
   "cell_type": "code",
   "execution_count": 9,
   "metadata": {},
   "outputs": [
    {
     "name": "stdout",
     "output_type": "stream",
     "text": [
      "3\n"
     ]
    }
   ],
   "source": [
    "# Se debe usar el guion bajo como separador de palabras como parte de un nombre de variable\n",
    "Mi_Variable = 3\n",
    "print(Mi_Variable)"
   ]
  },
  {
   "cell_type": "markdown",
   "metadata": {},
   "source": [
    "## 1.2 La funcion print  <a id='id2'> </a>"
   ]
  },
  {
   "cell_type": "code",
   "execution_count": 10,
   "metadata": {},
   "outputs": [
    {
     "name": "stdout",
     "output_type": "stream",
     "text": [
      "Hola\n"
     ]
    }
   ],
   "source": [
    "#Imprimir una cadena de texto\n",
    "\n",
    "print( \"Hola\")"
   ]
  },
  {
   "cell_type": "code",
   "execution_count": 11,
   "metadata": {},
   "outputs": [
    {
     "name": "stdout",
     "output_type": "stream",
     "text": [
      "100\n"
     ]
    }
   ],
   "source": [
    "# Inprimir el valor de una variable numerica\n",
    "print(100)"
   ]
  },
  {
   "cell_type": "code",
   "execution_count": 12,
   "metadata": {},
   "outputs": [
    {
     "name": "stdout",
     "output_type": "stream",
     "text": [
      "Hola Mundo\n"
     ]
    }
   ],
   "source": [
    "# Inprimir el valor de una variable de cadena de texto\n",
    "x = \"Hola Mundo\"\n",
    "print(x)"
   ]
  },
  {
   "cell_type": "code",
   "execution_count": 13,
   "metadata": {
    "scrolled": true
   },
   "outputs": [
    {
     "name": "stdout",
     "output_type": "stream",
     "text": [
      "El valor de x es Hola Mundo\n"
     ]
    }
   ],
   "source": [
    "\n",
    "print( 'El valor de x es', x )\n"
   ]
  },
  {
   "cell_type": "code",
   "execution_count": 14,
   "metadata": {},
   "outputs": [
    {
     "name": "stdout",
     "output_type": "stream",
     "text": [
      "35\n"
     ]
    }
   ],
   "source": [
    "x = 5 \n",
    "y = 7\n",
    "print(x * y)\n",
    "\n"
   ]
  },
  {
   "cell_type": "code",
   "execution_count": 15,
   "metadata": {},
   "outputs": [],
   "source": [
    "# comentario de una sola linea"
   ]
  },
  {
   "cell_type": "code",
   "execution_count": 16,
   "metadata": {},
   "outputs": [
    {
     "name": "stdout",
     "output_type": "stream",
     "text": [
      "El valor de x es 5***El valor de 'y' es 7\n",
      "Holas\n"
     ]
    }
   ],
   "source": [
    "# Usamos el parametro end para especificar cual es el terminador de linea\n",
    "# en una instruccion print\n",
    "# CARACTER DE ESCAPE \\\n",
    "\n",
    "print( 'El valor de x es', x, end='***' )\n",
    "print( 'El valor de \\'y\\' es', y)\n",
    "print(\"Holas\")"
   ]
  },
  {
   "cell_type": "code",
   "execution_count": 17,
   "metadata": {},
   "outputs": [
    {
     "name": "stdout",
     "output_type": "stream",
     "text": [
      "Hola \"Mundo\" \n"
     ]
    }
   ],
   "source": [
    "# Imprimir comillas dobles dentro de un texto\n",
    "print('Hola \"Mundo\" ')"
   ]
  },
  {
   "cell_type": "code",
   "execution_count": 18,
   "metadata": {},
   "outputs": [
    {
     "name": "stdout",
     "output_type": "stream",
     "text": [
      "Hola 'Mundo' \n"
     ]
    }
   ],
   "source": [
    "# Imprimir comillas SIMPLES dentro de un texto\n",
    "print(\"Hola 'Mundo' \")"
   ]
  },
  {
   "cell_type": "code",
   "execution_count": 19,
   "metadata": {},
   "outputs": [
    {
     "name": "stdout",
     "output_type": "stream",
     "text": [
      "Hola 'Mundo' \n"
     ]
    }
   ],
   "source": [
    "#utilizar el carácter de escape \\ para \n",
    "#poner comillas del mismo tipo\n",
    "\n",
    "print('Hola \\'Mundo\\' ')"
   ]
  },
  {
   "cell_type": "code",
   "execution_count": 20,
   "metadata": {},
   "outputs": [
    {
     "name": "stdout",
     "output_type": "stream",
     "text": [
      "Hola \tMundo \n"
     ]
    }
   ],
   "source": [
    "# Tabulaciones dentro de la cadena de texto\n",
    "print('Hola \\tMundo ')"
   ]
  },
  {
   "cell_type": "code",
   "execution_count": 21,
   "metadata": {},
   "outputs": [
    {
     "name": "stdout",
     "output_type": "stream",
     "text": [
      "Hola \n",
      "Mundo \n"
     ]
    }
   ],
   "source": [
    "# Salto de linea  (Enter)  dentro de la cadena de texto\n",
    "print('Hola \\nMundo ')"
   ]
  },
  {
   "cell_type": "markdown",
   "metadata": {},
   "source": [
    "## 1.3 Tipos de datos <a id='id3'> </a>\n",
    "\n",
    "Referencias a **Tipos de datos y operadores** \n",
    "\n",
    "https://docs.python.org/es/3/library/stdtypes.html"
   ]
  },
  {
   "cell_type": "code",
   "execution_count": 22,
   "metadata": {},
   "outputs": [
    {
     "name": "stdout",
     "output_type": "stream",
     "text": [
      "texto\n"
     ]
    }
   ],
   "source": [
    "x= 1100000   #Enteros\n",
    "x= 123.87   # Flotantes\n",
    "x= \"texto\"\n",
    "print(x)"
   ]
  },
  {
   "cell_type": "code",
   "execution_count": 23,
   "metadata": {},
   "outputs": [
    {
     "name": "stdout",
     "output_type": "stream",
     "text": [
      "55000000\n"
     ]
    }
   ],
   "source": [
    "# Números con separardores de miles\n",
    "# forzosamente debe usarse un guion bajo\n",
    "x= 11_000_000\n",
    "y= 5\n",
    "print(x * y)"
   ]
  },
  {
   "cell_type": "code",
   "execution_count": 24,
   "metadata": {},
   "outputs": [
    {
     "name": "stdout",
     "output_type": "stream",
     "text": [
      "80.0\n"
     ]
    }
   ],
   "source": [
    "# Exponente\n",
    "w= 0.08e3\n",
    "print(w)"
   ]
  },
  {
   "cell_type": "code",
   "execution_count": 25,
   "metadata": {},
   "outputs": [
    {
     "name": "stdout",
     "output_type": "stream",
     "text": [
      "Hola \"Mundo\" \n"
     ]
    }
   ],
   "source": [
    "x = 'Hola \"Mundo\" '\n",
    "print(x)"
   ]
  },
  {
   "cell_type": "code",
   "execution_count": 26,
   "metadata": {},
   "outputs": [
    {
     "name": "stdout",
     "output_type": "stream",
     "text": [
      "*********************************\n"
     ]
    }
   ],
   "source": [
    "print(\"*********************************\")"
   ]
  },
  {
   "cell_type": "code",
   "execution_count": 27,
   "metadata": {},
   "outputs": [
    {
     "name": "stdout",
     "output_type": "stream",
     "text": [
      "**************************************************\n"
     ]
    }
   ],
   "source": [
    "print(\"*\" * 50)"
   ]
  },
  {
   "cell_type": "code",
   "execution_count": 28,
   "metadata": {},
   "outputs": [
    {
     "name": "stdout",
     "output_type": "stream",
     "text": [
      "Hola Hola Hola Hola Hola Hola Hola Hola Hola Hola Hola Hola Hola Hola Hola Hola Hola Hola Hola Hola Hola Hola Hola Hola Hola Hola Hola Hola Hola Hola Hola Hola Hola Hola Hola Hola Hola Hola Hola Hola Hola Hola Hola Hola Hola Hola Hola Hola Hola Hola \n"
     ]
    }
   ],
   "source": [
    "print(\"Hola \" * 50)"
   ]
  },
  {
   "cell_type": "code",
   "execution_count": 29,
   "metadata": {},
   "outputs": [
    {
     "name": "stdout",
     "output_type": "stream",
     "text": [
      "243\n"
     ]
    }
   ],
   "source": [
    "# Potencias\n",
    "print(3 **5)\n"
   ]
  },
  {
   "cell_type": "code",
   "execution_count": 30,
   "metadata": {},
   "outputs": [
    {
     "data": {
      "text/plain": [
       "243"
      ]
     },
     "execution_count": 30,
     "metadata": {},
     "output_type": "execute_result"
    }
   ],
   "source": [
    "# también se puede usar la funcion pow para la exponenciación \n",
    "pow(3,5)"
   ]
  },
  {
   "cell_type": "markdown",
   "metadata": {},
   "source": [
    "## 1.4 Operadores   <a id='id4'> </a>\n",
    "\n",
    "> - Un operador es un símbolo del lenguaje de programación, el cual es capaz de realizar operaciones con los valores.\n",
    "- Por ejemplo, como en la aritmética, el signo de + (más) es un operador el cual es capaz de sumar dos números, dando el resultado de la suma.\n",
    "\n",
    "### Operadores matemáticos\n",
    "1. **(Suma) +** \n",
    "2. **(Resta) -** \n",
    "3. **(Multiplicación (*)**\n",
    "4. **(División) /** \n",
    "5. **(División entera) //** El resultado carece de la parte fraccionaria, esto significa que los resultados siempre son redondeados  \n",
    "6. **(Módulo) %** El resultado de la operación es el residuo que queda de la división entera.\n",
    "7. **(Exponenciación (potencia) **** \n"
   ]
  },
  {
   "cell_type": "code",
   "execution_count": 31,
   "metadata": {},
   "outputs": [
    {
     "name": "stdout",
     "output_type": "stream",
     "text": [
      "15.0\n"
     ]
    }
   ],
   "source": [
    "print(3 * 5.0)"
   ]
  },
  {
   "cell_type": "code",
   "execution_count": 32,
   "metadata": {},
   "outputs": [
    {
     "name": "stdout",
     "output_type": "stream",
     "text": [
      "5.0\n"
     ]
    }
   ],
   "source": [
    "# La division de numeros enteros siempre resulta en un float\n",
    "print(10 / 2)"
   ]
  },
  {
   "cell_type": "code",
   "execution_count": 33,
   "metadata": {},
   "outputs": [
    {
     "name": "stdout",
     "output_type": "stream",
     "text": [
      "4\n"
     ]
    }
   ],
   "source": [
    "# El doble signo // dara un resultado sin la parte fraccionaria\n",
    "print( 9 // 2)"
   ]
  },
  {
   "cell_type": "code",
   "execution_count": 34,
   "metadata": {},
   "outputs": [
    {
     "name": "stdout",
     "output_type": "stream",
     "text": [
      "1\n"
     ]
    }
   ],
   "source": [
    "print(9 % 2)"
   ]
  },
  {
   "cell_type": "code",
   "execution_count": 35,
   "metadata": {},
   "outputs": [
    {
     "name": "stdout",
     "output_type": "stream",
     "text": [
      "2\n"
     ]
    }
   ],
   "source": [
    "print(+2)"
   ]
  },
  {
   "cell_type": "code",
   "execution_count": 36,
   "metadata": {},
   "outputs": [
    {
     "name": "stdout",
     "output_type": "stream",
     "text": [
      "25\n"
     ]
    }
   ],
   "source": [
    "print((2 + 3) * 5)"
   ]
  },
  {
   "cell_type": "code",
   "execution_count": 37,
   "metadata": {},
   "outputs": [
    {
     "name": "stdout",
     "output_type": "stream",
     "text": [
      "123\n",
      "hola\n"
     ]
    }
   ],
   "source": [
    " X = 123\n",
    "print(X)\n",
    "X= \"hola\"\n",
    "print(X)"
   ]
  },
  {
   "cell_type": "code",
   "execution_count": 38,
   "metadata": {},
   "outputs": [
    {
     "ename": "SyntaxError",
     "evalue": "cannot assign to True (3180767927.py, line 2)",
     "output_type": "error",
     "traceback": [
      "\u001b[1;36m  Input \u001b[1;32mIn [38]\u001b[1;36m\u001b[0m\n\u001b[1;33m    True = 1\u001b[0m\n\u001b[1;37m    ^\u001b[0m\n\u001b[1;31mSyntaxError\u001b[0m\u001b[1;31m:\u001b[0m cannot assign to True\n"
     ]
    }
   ],
   "source": [
    "#No usar palabras reservadas\n",
    "True = 1"
   ]
  },
  {
   "cell_type": "code",
   "execution_count": 39,
   "metadata": {},
   "outputs": [
    {
     "name": "stdout",
     "output_type": "stream",
     "text": [
      "1\n"
     ]
    }
   ],
   "source": [
    "TRue = 1\n",
    "print (TRue)"
   ]
  },
  {
   "cell_type": "markdown",
   "metadata": {},
   "source": [
    "### Evaluar o conocer el tipo de dato"
   ]
  },
  {
   "cell_type": "code",
   "execution_count": 40,
   "metadata": {},
   "outputs": [
    {
     "data": {
      "text/plain": [
       "str"
      ]
     },
     "execution_count": 40,
     "metadata": {},
     "output_type": "execute_result"
    }
   ],
   "source": [
    "Mensaje = \"Hola mundo\"\n",
    "pi = 3.1416\n",
    "X = 10\n",
    "\n",
    "type(Mensaje)"
   ]
  },
  {
   "cell_type": "code",
   "execution_count": 41,
   "metadata": {},
   "outputs": [
    {
     "data": {
      "text/plain": [
       "float"
      ]
     },
     "execution_count": 41,
     "metadata": {},
     "output_type": "execute_result"
    }
   ],
   "source": [
    "type(pi)\n"
   ]
  },
  {
   "cell_type": "markdown",
   "metadata": {},
   "source": [
    "### Operadores de comparación\n",
    "\n",
    "\n",
    "| Operación | Significado |\n",
    "| ----------- | ----------- |\n",
    "| < | Estrictamente menor que |\n",
    "| <= | Menor o igual que |\n",
    "| > | Estrictamente mayor que|\n",
    "| >= | Mayor o igual que |\n",
    "| == | igual que |\n",
    "| != | diferente que |\n",
    "| is | igualdad a nivel de identidad (Son el mismo objeto) |\n",
    "| is not | desigualdad a nivel de identidad (no son el mismo objeto) |"
   ]
  },
  {
   "cell_type": "code",
   "execution_count": 42,
   "metadata": {},
   "outputs": [
    {
     "data": {
      "text/plain": [
       "True"
      ]
     },
     "execution_count": 42,
     "metadata": {},
     "output_type": "execute_result"
    }
   ],
   "source": [
    "5 > 3"
   ]
  },
  {
   "cell_type": "code",
   "execution_count": 43,
   "metadata": {},
   "outputs": [
    {
     "data": {
      "text/plain": [
       "True"
      ]
     },
     "execution_count": 43,
     "metadata": {},
     "output_type": "execute_result"
    }
   ],
   "source": [
    "5 == 5"
   ]
  },
  {
   "cell_type": "markdown",
   "metadata": {},
   "source": [
    "### **Casting**  -   Converir de un tipo de dato a otro\n",
    "\n",
    "1. **int():** construye un número entero a partir de un literal entero, un literal flotante (redondeando hacia abajo al número entero anterior), o un literal de cadena (siempre que la cadena represente un número entero)\n",
    "2. **float():** construye un número flotante a partir de un literal entero, un literal flotante o un literal de cadena (siempre que la cadena represente un flotante o un entero)\n",
    "3. **str():** construye una cadena a partir de una amplia variedad de tipos de datos, incluidas cadenas, literales enteros y literales flotantes"
   ]
  },
  {
   "cell_type": "code",
   "execution_count": 44,
   "metadata": {},
   "outputs": [
    {
     "data": {
      "text/plain": [
       "2"
      ]
     },
     "execution_count": 44,
     "metadata": {},
     "output_type": "execute_result"
    }
   ],
   "source": [
    "# y will be 2\n",
    "y = int(2.8) \n",
    "y"
   ]
  },
  {
   "cell_type": "code",
   "execution_count": 45,
   "metadata": {},
   "outputs": [
    {
     "data": {
      "text/plain": [
       "3"
      ]
     },
     "execution_count": 45,
     "metadata": {},
     "output_type": "execute_result"
    }
   ],
   "source": [
    "# z will be 3\n",
    "z = int(\"3\") \n",
    "z"
   ]
  },
  {
   "cell_type": "markdown",
   "metadata": {},
   "source": [
    "## 1.5  Expresiones y variables  <a id='id5'> </a>\n",
    "\n",
    " Una expresión es una combinación de valores (o variables, operadores, llamadas a funciones, las cuales son evaluadas y dan como resultado un valor, por ejemplo, 1 + 2.\n",
    "\n"
   ]
  },
  {
   "cell_type": "markdown",
   "metadata": {},
   "source": [
    "### Prioridad de operadores\n",
    "\n",
    "\n",
    "| Descripción | Operador |\n",
    "| ----------- | ----------- |\n",
    "| Paréntesis | () |\n",
    "| Exponenciacion | ** |\n",
    "| Multiplicación, multiplicación de matrices, división, división de redondeo, residuo o Módulo | *, @, /, //, % |\n",
    "| Suma y Resta | + , - |\n",
    "| Exponenciacion | ** |\n",
    "\n",
    "*Referencia completa\n",
    "https://docs.python.org/es/3/reference/expressions.html#evaluation-order\n"
   ]
  },
  {
   "cell_type": "code",
   "execution_count": 46,
   "metadata": {},
   "outputs": [
    {
     "name": "stdout",
     "output_type": "stream",
     "text": [
      "13\n"
     ]
    }
   ],
   "source": [
    "x = 3 + 2 * 5\n",
    "print(x)"
   ]
  },
  {
   "cell_type": "code",
   "execution_count": 47,
   "metadata": {},
   "outputs": [
    {
     "name": "stdout",
     "output_type": "stream",
     "text": [
      "25\n"
     ]
    }
   ],
   "source": [
    "x = (3 + 2) * 5\n",
    "print(x)"
   ]
  },
  {
   "cell_type": "code",
   "execution_count": 48,
   "metadata": {},
   "outputs": [
    {
     "name": "stdout",
     "output_type": "stream",
     "text": [
      "4.3076923076923075\n"
     ]
    }
   ],
   "source": [
    "x = ( (25 % 13) + 100) / (2 * 13)\n",
    "print(x)"
   ]
  },
  {
   "cell_type": "code",
   "execution_count": 49,
   "metadata": {},
   "outputs": [
    {
     "name": "stdout",
     "output_type": "stream",
     "text": [
      "False\n"
     ]
    }
   ],
   "source": [
    "print( 5 > 7 )"
   ]
  },
  {
   "cell_type": "code",
   "execution_count": 50,
   "metadata": {},
   "outputs": [
    {
     "ename": "SyntaxError",
     "evalue": "expression cannot contain assignment, perhaps you meant \"==\"? (3634147272.py, line 2)",
     "output_type": "error",
     "traceback": [
      "\u001b[1;36m  Input \u001b[1;32mIn [50]\u001b[1;36m\u001b[0m\n\u001b[1;33m    print( 5 = 7 )\u001b[0m\n\u001b[1;37m           ^\u001b[0m\n\u001b[1;31mSyntaxError\u001b[0m\u001b[1;31m:\u001b[0m expression cannot contain assignment, perhaps you meant \"==\"?\n"
     ]
    }
   ],
   "source": [
    "# Un signo de igual sirve para asignar un valor, por lo tanto marca error\n",
    "print( 5 = 7 )"
   ]
  },
  {
   "cell_type": "code",
   "execution_count": 51,
   "metadata": {},
   "outputs": [
    {
     "name": "stdout",
     "output_type": "stream",
     "text": [
      "False\n"
     ]
    }
   ],
   "source": [
    "# Doble signo de igual sirve para comparar\n",
    "print( 5 == 7 )"
   ]
  },
  {
   "cell_type": "raw",
   "metadata": {},
   "source": []
  },
  {
   "cell_type": "markdown",
   "metadata": {},
   "source": [
    "## 1.6 Entrada de datos  <a id='id6'> </a>\n",
    "\n",
    "- La función **input()** es capaz de leer datos que fueron introducidos por el usuario y pasar esos datos al programa en ejecución.\n",
    "- **El resultado debe ser asignado a una variable**; esto es crucial, si no se hace los datos introducidos se perderán.\n",
    "- La función pondrá la consola en modo de entrada; aparecerá un cursor que parpadea, y podrás introducir datos con el teclado, al terminar presiona la tecla Enter"
   ]
  },
  {
   "cell_type": "code",
   "execution_count": 52,
   "metadata": {},
   "outputs": [
    {
     "name": "stdout",
     "output_type": "stream",
     "text": [
      "Escribe tu nombreJose Gabriel\n",
      "Tu nombre es  Jose Gabriel\n"
     ]
    }
   ],
   "source": [
    "variable = input(\"Escribe tu nombre\")\n",
    "print(\"Tu nombre es \", variable)"
   ]
  },
  {
   "cell_type": "code",
   "execution_count": 53,
   "metadata": {},
   "outputs": [
    {
     "name": "stdout",
     "output_type": "stream",
     "text": [
      "¿Me puedes dar tu nombre por favor? Jose\n",
      "¿Me puedes dar tu apellido por favor? Rodriguez\n",
      "Gracias.\n",
      "\n",
      "Tu nombre es Jose Rodriguez.\n"
     ]
    }
   ],
   "source": [
    "nom = input(\"¿Me puedes dar tu nombre por favor? \")\n",
    "ape = input(\"¿Me puedes dar tu apellido por favor? \")\n",
    "print(\"Gracias.\")\n",
    "print(\"\\nTu nombre es \" + nom + \" \" + ape + \".\")"
   ]
  },
  {
   "cell_type": "code",
   "execution_count": 54,
   "metadata": {},
   "outputs": [
    {
     "name": "stdout",
     "output_type": "stream",
     "text": [
      "Dame un numero para multiplicar6\n",
      "66666\n"
     ]
    }
   ],
   "source": [
    "# El dato que se captura por teclado es string aunque se proporcione un numero\n",
    "x = input(\"Dame un numero para multiplicar\") \n",
    "z = x * 5\n",
    "print(z)"
   ]
  },
  {
   "cell_type": "code",
   "execution_count": 55,
   "metadata": {},
   "outputs": [
    {
     "name": "stdout",
     "output_type": "stream",
     "text": [
      "Dame un numero para multiplicar6\n",
      "30\n"
     ]
    }
   ],
   "source": [
    "x = int(input(\"Dame un numero para multiplicar\") )\n",
    "z = x * 5\n",
    "print(z)"
   ]
  },
  {
   "cell_type": "markdown",
   "metadata": {},
   "source": [
    "##  Ejercicio 1 de lectura de datos\n",
    "\n",
    "**Calcular la longitud de la hipotenusa**"
   ]
  },
  {
   "cell_type": "code",
   "execution_count": 56,
   "metadata": {},
   "outputs": [
    {
     "name": "stdout",
     "output_type": "stream",
     "text": [
      "Inserta la longitud del primer cateto: 5\n",
      "Inserta la longitud del segundo cateto 7\n",
      "8.602325267042627\n"
     ]
    }
   ],
   "source": [
    "import math\n",
    "cateto_a = float(input(\"Inserta la longitud del primer cateto: \"))\n",
    "cateto_b = float(input(\"Inserta la longitud del segundo cateto \"))\n",
    "hipo = (cateto_a**2 + cateto_b**2)\n",
    "hipotenusa = math.sqrt(hipo)\n",
    "print(hipotenusa)"
   ]
  },
  {
   "cell_type": "markdown",
   "metadata": {},
   "source": [
    "##  1.7 Condiciones  <a id='id7'> </a>\n",
    "\n",
    "En programación, una sentencia condicional es una instrucción o grupo de instrucciones que se pueden ejecutar o no en función del resultado (TRUE o FALSE) de una expresión. "
   ]
  },
  {
   "cell_type": "markdown",
   "metadata": {},
   "source": [
    "## if else\n",
    " \n",
    "**Ejecuta codigo dependiendo del resultado de una condición**\n",
    "\n",
    "`\n",
    "if true_or_false_condition:\n",
    "    perform_if_condition_true\n",
    "else:\n",
    "    perform_if_condition_false\n",
    "`\n",
    "\n",
    "\n",
    "> **La ejecución de if-else es la siguiente:**\n",
    "\n",
    "- Si la condición se evalúa como **True** (su valor no es igual a cero), la instrucción *perform_if_condition_true* se ejecuta, y la sentencia condicional llega a su fin.\n",
    "- Si la condición se evalúa como **False** (es igual a cero), la instrucción *perform_if_condition_false* se ejecuta, y la sentencia condicional llega a su fin.\n",
    "    \n",
    "    \n",
    "1. El resultado de la condicion debe ser verdadero (TRUE) o falso (FALSE)\n",
    "2. Python se basa en la sangría, usando espacios en blanco, para definir el alcance en el código.\n",
    "3. Otros lenguajes de programación a menudo utilizan llaves para este propósito."
   ]
  },
  {
   "cell_type": "code",
   "execution_count": null,
   "metadata": {},
   "outputs": [],
   "source": []
  },
  {
   "cell_type": "code",
   "execution_count": null,
   "metadata": {},
   "outputs": [],
   "source": []
  },
  {
   "cell_type": "markdown",
   "metadata": {},
   "source": [
    "##  1.8 Ciclos o bucles <a id='id8'> </a>"
   ]
  },
  {
   "cell_type": "markdown",
   "metadata": {},
   "source": [
    "###   1.8.1  While\n",
    "\n",
    "- Repite la ejecución de un bloque de instrucciones siempre que la condición se evalúe como **True**\n",
    "- Si la condición es **False** tan pronto como se compruebe por primera vez, el cuerpo no se ejecuta ni una sola vez.\n",
    "- En el bloque de instrucciones debe poder cambiar el valor de la condición a **FALSE**, porque si la condición es True al principio, el cuerpo podría funcionar continuamente hasta el infinito.\n",
    "- Las sentencias **break**, **continue** y **else**\n",
    "\n",
    "\n",
    "`\n",
    " while conditional_expression:\n",
    "    instruction_one\n",
    "    instruction_two\n",
    "    instruction_three\n",
    "    :\n",
    "    :\n",
    "    instruction_n\n",
    "`"
   ]
  },
  {
   "cell_type": "code",
   "execution_count": null,
   "metadata": {},
   "outputs": [],
   "source": []
  },
  {
   "cell_type": "code",
   "execution_count": null,
   "metadata": {},
   "outputs": [],
   "source": []
  },
  {
   "cell_type": "code",
   "execution_count": null,
   "metadata": {},
   "outputs": [],
   "source": []
  },
  {
   "cell_type": "markdown",
   "metadata": {},
   "source": [
    "###  1.8.2 For\n",
    "\n",
    "- Repite la ejecución de un bloque de instrucciones un determinado número de veces\n",
    "- Cualquier variable después de la palabra reservada **for** es la variable de control del ciclo; cuenta los giros del ciclo y lo hace automáticamente.\n",
    "- La palabra reservada **in** introduce un elemento de sintaxis que describe el rango de valores posibles que se asignan a la variable de control.\n",
    "- La función **range()** (esta es una función muy especial) es responsable de generar todos los valores deseados de la variable de control.\n",
    "\n",
    "`\n",
    "for i in range(1, 10):\n",
    "    instruction_one\n",
    "    instruction_two\n",
    "    instruction_three\n",
    "    :\n",
    "    :\n",
    "    instruction_n\n",
    "`\n",
    "\n",
    "- El primer argumento determina el valor inicial (primero) de la variable de control.\n",
    "- El último argumento muestra el primer valor que no se asignará a la variable de control.\n",
    "- Las sentencias **break**, **continue** y **else**\n",
    "- Nota: la función range() solo acepta enteros como argumentos"
   ]
  },
  {
   "cell_type": "code",
   "execution_count": null,
   "metadata": {},
   "outputs": [],
   "source": []
  },
  {
   "cell_type": "code",
   "execution_count": null,
   "metadata": {},
   "outputs": [],
   "source": []
  },
  {
   "cell_type": "markdown",
   "metadata": {},
   "source": [
    "## 1.9 Funciones  <a id='id9'> </a>\n",
    "\n",
    "Una función es una parte separada del código de computadora el cual es capaz de:\n",
    "- Causar algún efecto (por ejemplo, enviar texto a la terminal, crear un archivo, dibujar una imagen, reproducir un sonido, etc.).\n",
    "- Evaluar un valor (por ejemplo, la raíz cuadrada de un valor o la longitud de un texto dado) y devolverlo como el resultado de la función.\n",
    "- Simplificar tareas tediosas y repetitivas.\n",
    "- **Si un fragmento de código comienza a aparecer en más de una ocasión, considera la posibilidad de aislarlo en la forma de una función**, invocando la función desde el lugar en el que originalmente se encontraba.\n",
    "- Una función puede tener o no argumento(s).\n",
    "- Un buen desarrollador **divide el código (o mejor dicho: el problema) en piezas aisladas**, y codifica cada una de ellas en la forma de una función.\n",
    "- La función print (por ejemplo) es una función integrada al nucleo de Python y no se necesita instalar programas adicionales.\n",
    "- Para extender las funciones de Python existen librerías con funciones especificas (por ejemplo crear interfaces graficas, o Web) que se pueden instalar por separado.\n",
    "- El programador de Python puede crear sus propias funciones de acuerdo a sus necesidades."
   ]
  },
  {
   "cell_type": "markdown",
   "metadata": {},
   "source": [
    "#### Recomendaciones al crear funciones\n",
    "- Al escribir tus propias funciones, debes considerar cuidadosamente la elección de nombres.\n",
    "- El nombre de la función debe ser significativo (el nombre de la función print es evidente), imprime en la terminal.\n",
    "- Algunas funciones vienen con Python, otras pueden requerir una instalación por separado"
   ]
  },
  {
   "cell_type": "code",
   "execution_count": null,
   "metadata": {},
   "outputs": [],
   "source": []
  },
  {
   "cell_type": "code",
   "execution_count": null,
   "metadata": {},
   "outputs": [],
   "source": []
  },
  {
   "cell_type": "code",
   "execution_count": null,
   "metadata": {},
   "outputs": [],
   "source": []
  },
  {
   "cell_type": "markdown",
   "metadata": {},
   "source": [
    "## 1.10 Manejo de excepciones <a id='id10'> </a>\n",
    "\n",
    "El lidiar con errores de programación tiene (al menos) dos partes: \n",
    "1. La primera es cuando te metes en problemas porque tu código, aparentemente correcto, se alimenta con datos incorrectos. Por ejemplo, esperas que se ingrese al código un valor entero, pero el usuario ingresa algunas letras al azar. Otro escenario es cuando intentas abrir un archivo, pero ese archivo ya no existe o se le cambio el nombre.\n",
    "2. La segunda parte de lidiar con errores de programación se revela cuando ocurre un comportamiento no deseado del programa debido a errores que se cometieron cuando se estaba escribiendo el código. Este tipo de error se denomina comúnmente \"bug\".\n",
    "\n",
    "Tomese como ejemplo el siguiente escenario: \n",
    "\n",
    "1. Se desea capturar un numero por teclado para obtener su recíproco, (dividir 1 por el número).\n",
    "2. Se tiene el siguiente código  \n",
    "value = int(input('Ingresa un número natural: '))  \n",
    "print('El recíproco de', value, 'es', 1/value)  \n",
    "3. El usuario teclea una letra, lo cual originaria el siguiente error\n",
    "\n",
    "> Traceback (most recent call last):  \n",
    "  File \"code.py\", line 1, in  \n",
    "    value = int(input('Ingresa un número: '))  \n",
    "ValueError: invalid literal for int() with base 10: ''  \n",
    "\n",
    "La primera palabra de la línea es el **nombre de la excepción** la cual provoca que tu código se detenga. Su nombre aquí es **ValueError**. El resto de la línea es solo una breve explicación que especifica con mayor precisión la causa de la excepción ocurrida.\n",
    "\n",
    "Para prevenir el primer tipo de errores, Python ofrece el manejo de excepciones que se hace mediante los bloques que utilizan las sentencias **try** , **except** y **finally**. \n",
    "\n",
    "- **try:** En este lugar se coloca el código que se sospecha que es riesgoso y puede terminar en caso de un error; nota: este tipo de error lleva por nombre excepción, mientras que la ocurrencia de la excepción se le denomina generar; podemos decir que se genera (o se generó) una excepción.\n",
    "- **except:** Esta parte fue diseñada para manejar la excepción; depende de ti lo que quieras hacer aquí: Mandar un mensaje que algo salio mal y repetir el proceso, o bien, simplemente terminar la ejecucion del programa."
   ]
  },
  {
   "cell_type": "code",
   "execution_count": null,
   "metadata": {},
   "outputs": [],
   "source": []
  },
  {
   "cell_type": "code",
   "execution_count": null,
   "metadata": {},
   "outputs": [],
   "source": []
  },
  {
   "cell_type": "code",
   "execution_count": null,
   "metadata": {},
   "outputs": [],
   "source": []
  }
 ],
 "metadata": {
  "kernelspec": {
   "display_name": "Python 3 (ipykernel)",
   "language": "python",
   "name": "python3"
  },
  "language_info": {
   "codemirror_mode": {
    "name": "ipython",
    "version": 3
   },
   "file_extension": ".py",
   "mimetype": "text/x-python",
   "name": "python",
   "nbconvert_exporter": "python",
   "pygments_lexer": "ipython3",
   "version": "3.8.13"
  }
 },
 "nbformat": 4,
 "nbformat_minor": 2
}
